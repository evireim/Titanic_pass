{
  "cells": [
    {
      "cell_type": "markdown",
      "metadata": {
        "id": "view-in-github",
        "colab_type": "text"
      },
      "source": [
        "<a href=\"https://colab.research.google.com/github/evireim/Titanic_pass/blob/main/titanic.ipynb\" target=\"_parent\"><img src=\"https://colab.research.google.com/assets/colab-badge.svg\" alt=\"Open In Colab\"/></a>"
      ]
    },
    {
      "cell_type": "code",
      "source": [
        "import pandas as pd\n",
        "import numpy as np\n",
        "import tensorflow as tf"
      ],
      "metadata": {
        "id": "i5d4bmD-j7qD"
      },
      "execution_count": 1,
      "outputs": []
    },
    {
      "cell_type": "code",
      "source": [
        "ds = pd.read_csv('train.csv')\n"
      ],
      "metadata": {
        "id": "KzqqNDOXkEP-"
      },
      "execution_count": 2,
      "outputs": []
    },
    {
      "cell_type": "code",
      "source": [
        "ds_sex = ds.iloc[:, 4:5].values"
      ],
      "metadata": {
        "id": "laOvmanCEMlV"
      },
      "execution_count": 3,
      "outputs": []
    },
    {
      "cell_type": "code",
      "source": [
        "from sklearn.preprocessing import LabelEncoder\n",
        "le = LabelEncoder()\n",
        "ds_sex = le.fit_transform(ds_sex)"
      ],
      "metadata": {
        "colab": {
          "base_uri": "https://localhost:8080/"
        },
        "id": "J2jVUBK_Et7b",
        "outputId": "0bd659cb-0bf2-4bbb-a74f-4a28d5b0a514"
      },
      "execution_count": 4,
      "outputs": [
        {
          "output_type": "stream",
          "name": "stderr",
          "text": [
            "/usr/local/lib/python3.9/dist-packages/sklearn/preprocessing/_label.py:116: DataConversionWarning: A column-vector y was passed when a 1d array was expected. Please change the shape of y to (n_samples, ), for example using ravel().\n",
            "  y = column_or_1d(y, warn=True)\n"
          ]
        }
      ]
    },
    {
      "cell_type": "code",
      "source": [
        "ds.head()"
      ],
      "metadata": {
        "colab": {
          "base_uri": "https://localhost:8080/",
          "height": 206
        },
        "id": "XmpYP1Alkh4f",
        "outputId": "269ea0e8-8c7e-4c73-f73e-6f92b0fdfd43"
      },
      "execution_count": 5,
      "outputs": [
        {
          "output_type": "execute_result",
          "data": {
            "text/plain": [
              "   PassengerId  Survived  Pclass  \\\n",
              "0            1         0       3   \n",
              "1            2         1       1   \n",
              "2            3         1       3   \n",
              "3            4         1       1   \n",
              "4            5         0       3   \n",
              "\n",
              "                                                Name     Sex   Age  SibSp  \\\n",
              "0                            Braund, Mr. Owen Harris    male  22.0      1   \n",
              "1  Cumings, Mrs. John Bradley (Florence Briggs Th...  female  38.0      1   \n",
              "2                             Heikkinen, Miss. Laina  female  26.0      0   \n",
              "3       Futrelle, Mrs. Jacques Heath (Lily May Peel)  female  35.0      1   \n",
              "4                           Allen, Mr. William Henry    male  35.0      0   \n",
              "\n",
              "   Parch            Ticket     Fare Cabin Embarked  \n",
              "0      0         A/5 21171   7.2500   NaN        S  \n",
              "1      0          PC 17599  71.2833   C85        C  \n",
              "2      0  STON/O2. 3101282   7.9250   NaN        S  \n",
              "3      0            113803  53.1000  C123        S  \n",
              "4      0            373450   8.0500   NaN        S  "
            ],
            "text/html": [
              "\n",
              "  <div id=\"df-d1d8d1ba-12af-4a09-9a0f-9857b97992ac\">\n",
              "    <div class=\"colab-df-container\">\n",
              "      <div>\n",
              "<style scoped>\n",
              "    .dataframe tbody tr th:only-of-type {\n",
              "        vertical-align: middle;\n",
              "    }\n",
              "\n",
              "    .dataframe tbody tr th {\n",
              "        vertical-align: top;\n",
              "    }\n",
              "\n",
              "    .dataframe thead th {\n",
              "        text-align: right;\n",
              "    }\n",
              "</style>\n",
              "<table border=\"1\" class=\"dataframe\">\n",
              "  <thead>\n",
              "    <tr style=\"text-align: right;\">\n",
              "      <th></th>\n",
              "      <th>PassengerId</th>\n",
              "      <th>Survived</th>\n",
              "      <th>Pclass</th>\n",
              "      <th>Name</th>\n",
              "      <th>Sex</th>\n",
              "      <th>Age</th>\n",
              "      <th>SibSp</th>\n",
              "      <th>Parch</th>\n",
              "      <th>Ticket</th>\n",
              "      <th>Fare</th>\n",
              "      <th>Cabin</th>\n",
              "      <th>Embarked</th>\n",
              "    </tr>\n",
              "  </thead>\n",
              "  <tbody>\n",
              "    <tr>\n",
              "      <th>0</th>\n",
              "      <td>1</td>\n",
              "      <td>0</td>\n",
              "      <td>3</td>\n",
              "      <td>Braund, Mr. Owen Harris</td>\n",
              "      <td>male</td>\n",
              "      <td>22.0</td>\n",
              "      <td>1</td>\n",
              "      <td>0</td>\n",
              "      <td>A/5 21171</td>\n",
              "      <td>7.2500</td>\n",
              "      <td>NaN</td>\n",
              "      <td>S</td>\n",
              "    </tr>\n",
              "    <tr>\n",
              "      <th>1</th>\n",
              "      <td>2</td>\n",
              "      <td>1</td>\n",
              "      <td>1</td>\n",
              "      <td>Cumings, Mrs. John Bradley (Florence Briggs Th...</td>\n",
              "      <td>female</td>\n",
              "      <td>38.0</td>\n",
              "      <td>1</td>\n",
              "      <td>0</td>\n",
              "      <td>PC 17599</td>\n",
              "      <td>71.2833</td>\n",
              "      <td>C85</td>\n",
              "      <td>C</td>\n",
              "    </tr>\n",
              "    <tr>\n",
              "      <th>2</th>\n",
              "      <td>3</td>\n",
              "      <td>1</td>\n",
              "      <td>3</td>\n",
              "      <td>Heikkinen, Miss. Laina</td>\n",
              "      <td>female</td>\n",
              "      <td>26.0</td>\n",
              "      <td>0</td>\n",
              "      <td>0</td>\n",
              "      <td>STON/O2. 3101282</td>\n",
              "      <td>7.9250</td>\n",
              "      <td>NaN</td>\n",
              "      <td>S</td>\n",
              "    </tr>\n",
              "    <tr>\n",
              "      <th>3</th>\n",
              "      <td>4</td>\n",
              "      <td>1</td>\n",
              "      <td>1</td>\n",
              "      <td>Futrelle, Mrs. Jacques Heath (Lily May Peel)</td>\n",
              "      <td>female</td>\n",
              "      <td>35.0</td>\n",
              "      <td>1</td>\n",
              "      <td>0</td>\n",
              "      <td>113803</td>\n",
              "      <td>53.1000</td>\n",
              "      <td>C123</td>\n",
              "      <td>S</td>\n",
              "    </tr>\n",
              "    <tr>\n",
              "      <th>4</th>\n",
              "      <td>5</td>\n",
              "      <td>0</td>\n",
              "      <td>3</td>\n",
              "      <td>Allen, Mr. William Henry</td>\n",
              "      <td>male</td>\n",
              "      <td>35.0</td>\n",
              "      <td>0</td>\n",
              "      <td>0</td>\n",
              "      <td>373450</td>\n",
              "      <td>8.0500</td>\n",
              "      <td>NaN</td>\n",
              "      <td>S</td>\n",
              "    </tr>\n",
              "  </tbody>\n",
              "</table>\n",
              "</div>\n",
              "      <button class=\"colab-df-convert\" onclick=\"convertToInteractive('df-d1d8d1ba-12af-4a09-9a0f-9857b97992ac')\"\n",
              "              title=\"Convert this dataframe to an interactive table.\"\n",
              "              style=\"display:none;\">\n",
              "        \n",
              "  <svg xmlns=\"http://www.w3.org/2000/svg\" height=\"24px\"viewBox=\"0 0 24 24\"\n",
              "       width=\"24px\">\n",
              "    <path d=\"M0 0h24v24H0V0z\" fill=\"none\"/>\n",
              "    <path d=\"M18.56 5.44l.94 2.06.94-2.06 2.06-.94-2.06-.94-.94-2.06-.94 2.06-2.06.94zm-11 1L8.5 8.5l.94-2.06 2.06-.94-2.06-.94L8.5 2.5l-.94 2.06-2.06.94zm10 10l.94 2.06.94-2.06 2.06-.94-2.06-.94-.94-2.06-.94 2.06-2.06.94z\"/><path d=\"M17.41 7.96l-1.37-1.37c-.4-.4-.92-.59-1.43-.59-.52 0-1.04.2-1.43.59L10.3 9.45l-7.72 7.72c-.78.78-.78 2.05 0 2.83L4 21.41c.39.39.9.59 1.41.59.51 0 1.02-.2 1.41-.59l7.78-7.78 2.81-2.81c.8-.78.8-2.07 0-2.86zM5.41 20L4 18.59l7.72-7.72 1.47 1.35L5.41 20z\"/>\n",
              "  </svg>\n",
              "      </button>\n",
              "      \n",
              "  <style>\n",
              "    .colab-df-container {\n",
              "      display:flex;\n",
              "      flex-wrap:wrap;\n",
              "      gap: 12px;\n",
              "    }\n",
              "\n",
              "    .colab-df-convert {\n",
              "      background-color: #E8F0FE;\n",
              "      border: none;\n",
              "      border-radius: 50%;\n",
              "      cursor: pointer;\n",
              "      display: none;\n",
              "      fill: #1967D2;\n",
              "      height: 32px;\n",
              "      padding: 0 0 0 0;\n",
              "      width: 32px;\n",
              "    }\n",
              "\n",
              "    .colab-df-convert:hover {\n",
              "      background-color: #E2EBFA;\n",
              "      box-shadow: 0px 1px 2px rgba(60, 64, 67, 0.3), 0px 1px 3px 1px rgba(60, 64, 67, 0.15);\n",
              "      fill: #174EA6;\n",
              "    }\n",
              "\n",
              "    [theme=dark] .colab-df-convert {\n",
              "      background-color: #3B4455;\n",
              "      fill: #D2E3FC;\n",
              "    }\n",
              "\n",
              "    [theme=dark] .colab-df-convert:hover {\n",
              "      background-color: #434B5C;\n",
              "      box-shadow: 0px 1px 3px 1px rgba(0, 0, 0, 0.15);\n",
              "      filter: drop-shadow(0px 1px 2px rgba(0, 0, 0, 0.3));\n",
              "      fill: #FFFFFF;\n",
              "    }\n",
              "  </style>\n",
              "\n",
              "      <script>\n",
              "        const buttonEl =\n",
              "          document.querySelector('#df-d1d8d1ba-12af-4a09-9a0f-9857b97992ac button.colab-df-convert');\n",
              "        buttonEl.style.display =\n",
              "          google.colab.kernel.accessAllowed ? 'block' : 'none';\n",
              "\n",
              "        async function convertToInteractive(key) {\n",
              "          const element = document.querySelector('#df-d1d8d1ba-12af-4a09-9a0f-9857b97992ac');\n",
              "          const dataTable =\n",
              "            await google.colab.kernel.invokeFunction('convertToInteractive',\n",
              "                                                     [key], {});\n",
              "          if (!dataTable) return;\n",
              "\n",
              "          const docLinkHtml = 'Like what you see? Visit the ' +\n",
              "            '<a target=\"_blank\" href=https://colab.research.google.com/notebooks/data_table.ipynb>data table notebook</a>'\n",
              "            + ' to learn more about interactive tables.';\n",
              "          element.innerHTML = '';\n",
              "          dataTable['output_type'] = 'display_data';\n",
              "          await google.colab.output.renderOutput(dataTable, element);\n",
              "          const docLink = document.createElement('div');\n",
              "          docLink.innerHTML = docLinkHtml;\n",
              "          element.appendChild(docLink);\n",
              "        }\n",
              "      </script>\n",
              "    </div>\n",
              "  </div>\n",
              "  "
            ]
          },
          "metadata": {},
          "execution_count": 5
        }
      ]
    },
    {
      "cell_type": "code",
      "source": [
        "ds = ds.drop(['PassengerId', 'Name', 'Sex', 'SibSp', 'Parch', 'Ticket', 'Cabin', 'Embarked'], axis=1)"
      ],
      "metadata": {
        "id": "Cbj4duh_kkDZ"
      },
      "execution_count": 6,
      "outputs": []
    },
    {
      "cell_type": "code",
      "source": [
        "X = ds.iloc[:, 1:].values\n",
        "y = ds.iloc[:, 0].values"
      ],
      "metadata": {
        "id": "c0Yb3aVjk8oM"
      },
      "execution_count": 7,
      "outputs": []
    },
    {
      "cell_type": "code",
      "source": [
        "#print(X)"
      ],
      "metadata": {
        "id": "ZVpc0XuMlYhG"
      },
      "execution_count": 8,
      "outputs": []
    },
    {
      "cell_type": "code",
      "source": [
        "ds_sex = ds_sex.reshape(len(ds_sex),1)"
      ],
      "metadata": {
        "id": "loHXA6t0FWwy"
      },
      "execution_count": 9,
      "outputs": []
    },
    {
      "cell_type": "code",
      "source": [
        "X = np.concatenate((ds_sex, X), axis=1)"
      ],
      "metadata": {
        "id": "zNMZfiIqH2B9"
      },
      "execution_count": 10,
      "outputs": []
    },
    {
      "cell_type": "code",
      "source": [
        "#print(X)"
      ],
      "metadata": {
        "id": "RpvavIWmIwn6"
      },
      "execution_count": 11,
      "outputs": []
    },
    {
      "cell_type": "code",
      "source": [
        "#print(y)"
      ],
      "metadata": {
        "id": "Y85Hks4Jlisn"
      },
      "execution_count": 12,
      "outputs": []
    },
    {
      "cell_type": "code",
      "source": [
        "from sklearn.impute import SimpleImputer\n",
        "imputer = SimpleImputer(missing_values=np.nan, strategy='mean')\n",
        "imputer.fit(X[:, 1:])\n",
        "X[:, 1:] = imputer.transform(X[:, 1:])"
      ],
      "metadata": {
        "id": "ERg6-Ar7nMXa"
      },
      "execution_count": 13,
      "outputs": []
    },
    {
      "cell_type": "code",
      "source": [
        "#print(X)"
      ],
      "metadata": {
        "id": "j7tRbgJLozGP"
      },
      "execution_count": 14,
      "outputs": []
    },
    {
      "cell_type": "code",
      "source": [
        "from sklearn.model_selection import train_test_split\n",
        "X_train, X_test, y_train, y_test = train_test_split(X, y, test_size=0.2, random_state=1)"
      ],
      "metadata": {
        "id": "Z_E5fewzrlS8"
      },
      "execution_count": 15,
      "outputs": []
    },
    {
      "cell_type": "code",
      "source": [
        "print(X_train)"
      ],
      "metadata": {
        "id": "69shopPq1I6e",
        "colab": {
          "base_uri": "https://localhost:8080/"
        },
        "outputId": "213a5a4a-5e30-4100-e86d-f2b2d6020580"
      },
      "execution_count": 16,
      "outputs": [
        {
          "output_type": "stream",
          "name": "stdout",
          "text": [
            "[[ 1.          3.         29.69911765 23.25      ]\n",
            " [ 0.          1.         30.         56.9292    ]\n",
            " [ 0.          2.         34.         10.5       ]\n",
            " ...\n",
            " [ 1.          2.         21.         73.5       ]\n",
            " [ 0.          3.         29.69911765  7.55      ]\n",
            " [ 1.          3.         21.          8.05      ]]\n"
          ]
        }
      ]
    },
    {
      "cell_type": "code",
      "source": [
        "print(X_test)"
      ],
      "metadata": {
        "id": "w_bIjf6i1M38",
        "colab": {
          "base_uri": "https://localhost:8080/"
        },
        "outputId": "50e1709d-526b-420e-afb6-f9be6675be71"
      },
      "execution_count": 17,
      "outputs": [
        {
          "output_type": "stream",
          "name": "stdout",
          "text": [
            "[[  0.           1.          48.          25.9292    ]\n",
            " [  1.           3.          29.69911765   7.8958    ]\n",
            " [  0.           2.          17.          10.5       ]\n",
            " [  0.           3.          29.69911765   8.1375    ]\n",
            " [  0.           2.           7.          26.25      ]\n",
            " [  1.           3.          21.           7.8542    ]\n",
            " [  1.           2.          36.5         26.        ]\n",
            " [  0.           1.          35.          53.1       ]\n",
            " [  1.           1.          28.          82.1708    ]\n",
            " [  0.           3.          29.69911765  15.5       ]\n",
            " [  1.           3.          25.           7.8958    ]\n",
            " [  0.           3.          26.           7.925     ]\n",
            " [  1.           1.          54.          51.8625    ]\n",
            " [  1.           2.          29.69911765  13.        ]\n",
            " [  0.           3.          29.69911765   7.75      ]\n",
            " [  1.           1.          28.          26.55      ]\n",
            " [  1.           3.          10.          27.9       ]\n",
            " [  1.           3.          24.          16.1       ]\n",
            " [  1.           3.          36.           7.8958    ]\n",
            " [  0.           2.          24.          18.75      ]\n",
            " [  1.           3.          32.           7.925     ]\n",
            " [  1.           3.          26.          14.4542    ]\n",
            " [  0.           1.          24.          49.5042    ]\n",
            " [  1.           2.          18.          73.5       ]\n",
            " [  0.           3.          14.5         14.4542    ]\n",
            " [  1.           3.          27.           8.6625    ]\n",
            " [  0.           1.          21.         262.375     ]\n",
            " [  0.           2.          42.          13.        ]\n",
            " [  1.           2.          26.          10.5       ]\n",
            " [  0.           1.          22.         151.55      ]\n",
            " [  0.           3.          22.          10.5167    ]\n",
            " [  1.           1.          29.69911765  30.5       ]\n",
            " [  0.           3.          39.          31.275     ]\n",
            " [  0.           3.          25.           7.925     ]\n",
            " [  1.           3.          40.5          7.75      ]\n",
            " [  0.           3.           5.          31.3875    ]\n",
            " [  1.           1.          36.          26.2875    ]\n",
            " [  1.           3.          29.69911765   7.3125    ]\n",
            " [  1.           1.          25.          55.4417    ]\n",
            " [  1.           3.          20.           7.8542    ]\n",
            " [  0.           3.          27.           7.925     ]\n",
            " [  0.           3.          27.          11.1333    ]\n",
            " [  0.           1.          47.          52.5542    ]\n",
            " [  1.           1.          45.5         28.5       ]\n",
            " [  1.           2.           1.          37.0042    ]\n",
            " [  1.           3.          35.           7.05      ]\n",
            " [  1.           3.          11.          46.9       ]\n",
            " [  1.           2.          39.          13.        ]\n",
            " [  1.           1.          35.         512.3292    ]\n",
            " [  1.           2.          16.          10.5       ]\n",
            " [  1.           2.          29.69911765  15.05      ]\n",
            " [  0.           2.          21.          10.5       ]\n",
            " [  1.           2.          19.          10.5       ]\n",
            " [  1.           2.          36.          10.5       ]\n",
            " [  1.           3.          29.           9.5       ]\n",
            " [  0.           3.          24.          15.85      ]\n",
            " [  1.           2.          29.          10.5       ]\n",
            " [  1.           1.          61.          32.3208    ]\n",
            " [  1.           3.          39.          31.275     ]\n",
            " [  0.           3.          20.           8.6625    ]\n",
            " [  0.           3.          29.69911765  69.55      ]\n",
            " [  1.           3.          29.69911765   7.2292    ]\n",
            " [  1.           2.          28.          33.        ]\n",
            " [  1.           1.          45.          26.55      ]\n",
            " [  1.           1.          27.          53.1       ]\n",
            " [  0.           3.          29.          15.2458    ]\n",
            " [  1.           3.          20.          15.7417    ]\n",
            " [  1.           3.          26.          18.7875    ]\n",
            " [  0.           3.           2.          10.4625    ]\n",
            " [  1.           2.          43.          26.25      ]\n",
            " [  1.           3.          24.          24.15      ]\n",
            " [  1.           3.          14.          39.6875    ]\n",
            " [  1.           1.          46.          79.2       ]\n",
            " [  1.           3.          29.69911765   7.8958    ]\n",
            " [  0.           2.          57.          10.5       ]\n",
            " [  1.           2.          31.          37.0042    ]\n",
            " [  0.           1.          35.          52.        ]\n",
            " [  1.           3.          29.69911765   7.75      ]\n",
            " [  1.           1.          58.          29.7       ]\n",
            " [  0.           1.          16.          86.5       ]\n",
            " [  1.           3.          26.          56.4958    ]\n",
            " [  1.           3.          29.69911765  69.55      ]\n",
            " [  1.           3.          29.69911765   8.05      ]\n",
            " [  1.           3.          34.           6.4958    ]\n",
            " [  0.           2.          23.          13.7917    ]\n",
            " [  1.           3.          29.           9.4833    ]\n",
            " [  1.           3.          29.69911765   8.05      ]\n",
            " [  1.           3.          29.69911765   7.225     ]\n",
            " [  0.           3.           6.          31.275     ]\n",
            " [  0.           2.          30.          21.        ]\n",
            " [  1.           1.          47.          25.5875    ]\n",
            " [  1.           3.          29.69911765   8.7125    ]\n",
            " [  1.           3.          25.           7.7417    ]\n",
            " [  0.           3.          29.69911765   7.75      ]\n",
            " [  1.           3.          29.69911765   9.5       ]\n",
            " [  1.           1.          30.          27.75      ]\n",
            " [  1.           3.          59.           7.25      ]\n",
            " [  0.           3.          29.69911765   7.225     ]\n",
            " [  1.           3.          19.           7.8958    ]\n",
            " [  1.           3.          29.69911765   7.8958    ]\n",
            " [  1.           1.          29.69911765  39.6       ]\n",
            " [  1.           1.          38.           0.        ]\n",
            " [  1.           3.          29.69911765  15.2458    ]\n",
            " [  0.           3.          18.          14.4542    ]\n",
            " [  0.           1.          16.          57.9792    ]\n",
            " [  1.           3.          23.           9.225     ]\n",
            " [  1.           3.          29.           8.05      ]\n",
            " [  1.           3.          29.           7.875     ]\n",
            " [  1.           3.           7.          39.6875    ]\n",
            " [  1.           3.          42.           8.6625    ]\n",
            " [  1.           1.          49.          56.9292    ]\n",
            " [  1.           3.          22.           7.2292    ]\n",
            " [  1.           2.          48.          13.        ]\n",
            " [  1.           3.          25.           7.775     ]\n",
            " [  1.           2.          23.          13.        ]\n",
            " [  1.           3.          33.           7.775     ]\n",
            " [  1.           2.          29.          21.        ]\n",
            " [  1.           1.          31.          52.        ]\n",
            " [  0.           2.          36.          26.        ]\n",
            " [  0.           3.          31.           8.6833    ]\n",
            " [  0.           2.          28.          26.        ]\n",
            " [  1.           1.          52.          79.65      ]\n",
            " [  1.           3.          29.69911765   7.8958    ]\n",
            " [  1.           2.          18.          11.5       ]\n",
            " [  0.           1.          31.         164.8667    ]\n",
            " [  0.           1.          19.          30.        ]\n",
            " [  0.           2.          28.          13.        ]\n",
            " [  0.           3.          22.           7.775     ]\n",
            " [  1.           3.          29.69911765  69.55      ]\n",
            " [  1.           3.          29.69911765   7.75      ]\n",
            " [  1.           3.          24.           7.8958    ]\n",
            " [  1.           3.          44.           7.925     ]\n",
            " [  0.           3.           0.75        19.2583    ]\n",
            " [  1.           1.          27.          76.7292    ]\n",
            " [  0.           3.          33.          15.85      ]\n",
            " [  0.           1.          58.         146.5208    ]\n",
            " [  0.           1.          18.          79.65      ]\n",
            " [  1.           3.           1.          46.9       ]\n",
            " [  1.           3.          18.           6.4958    ]\n",
            " [  0.           3.          23.           7.55      ]\n",
            " [  0.           1.          25.         151.55      ]\n",
            " [  1.           3.          39.          24.15      ]\n",
            " [  0.           1.          14.         120.        ]\n",
            " [  0.           3.          29.69911765   8.05      ]\n",
            " [  1.           3.          29.69911765   7.775     ]\n",
            " [  0.           3.          18.          17.8       ]\n",
            " [  1.           2.          31.          10.5       ]\n",
            " [  1.           3.          29.69911765   8.05      ]\n",
            " [  0.           3.          39.          29.125     ]\n",
            " [  1.           3.          22.           7.8958    ]\n",
            " [  0.           3.           2.          12.2875    ]\n",
            " [  1.           3.          49.           0.        ]\n",
            " [  1.           3.           2.          29.125     ]\n",
            " [  0.           3.          22.           7.75      ]\n",
            " [  1.           3.          29.69911765  56.4958    ]\n",
            " [  1.           3.          32.           8.3625    ]\n",
            " [  1.           3.          22.           7.25      ]\n",
            " [  1.           3.          42.           7.55      ]\n",
            " [  0.           2.          27.          13.8583    ]\n",
            " [  1.           2.          23.          13.        ]\n",
            " [  1.           2.          37.          26.        ]\n",
            " [  1.           3.          28.           9.5       ]\n",
            " [  0.           3.          21.           7.65      ]\n",
            " [  1.           1.          28.          35.5       ]\n",
            " [  1.           3.          26.           8.6625    ]\n",
            " [  0.           3.          15.          14.4542    ]\n",
            " [  0.           2.          24.          27.        ]\n",
            " [  1.           3.          29.69911765  56.4958    ]\n",
            " [  1.           3.          16.           8.05      ]\n",
            " [  1.           1.          58.         113.275     ]\n",
            " [  0.           1.          35.         512.3292    ]\n",
            " [  0.           3.           2.          31.275     ]\n",
            " [  0.           1.          30.          86.5       ]\n",
            " [  1.           3.          18.           7.8542    ]\n",
            " [  0.           1.          49.          25.9292    ]\n",
            " [  1.           1.          29.69911765   0.        ]\n",
            " [  1.           3.          29.69911765   7.7333    ]\n",
            " [  1.           3.          21.           7.7333    ]\n",
            " [  0.           3.           5.          19.2583    ]]\n"
          ]
        }
      ]
    },
    {
      "cell_type": "code",
      "source": [
        "from sklearn.preprocessing import StandardScaler\n",
        "sc = StandardScaler()\n",
        "X_train_sc = sc.fit_transform(X_train[:, 2:])\n",
        "X_test_sc = sc.transform(X_test[:, 2:])"
      ],
      "metadata": {
        "id": "Q9h2TPZbXOlK"
      },
      "execution_count": 18,
      "outputs": []
    },
    {
      "cell_type": "code",
      "source": [
        "print(X_train)"
      ],
      "metadata": {
        "id": "eCmKppLbKNCA",
        "colab": {
          "base_uri": "https://localhost:8080/"
        },
        "outputId": "e27e7422-8d0d-4973-9df8-39925ba37031"
      },
      "execution_count": 19,
      "outputs": [
        {
          "output_type": "stream",
          "name": "stdout",
          "text": [
            "[[ 1.          3.         29.69911765 23.25      ]\n",
            " [ 0.          1.         30.         56.9292    ]\n",
            " [ 0.          2.         34.         10.5       ]\n",
            " ...\n",
            " [ 1.          2.         21.         73.5       ]\n",
            " [ 0.          3.         29.69911765  7.55      ]\n",
            " [ 1.          3.         21.          8.05      ]]\n"
          ]
        }
      ]
    },
    {
      "cell_type": "code",
      "source": [
        "print(X_train_sc)"
      ],
      "metadata": {
        "id": "vdETqxP80V_C",
        "colab": {
          "base_uri": "https://localhost:8080/"
        },
        "outputId": "6364de03-eb8a-40fa-9866-9fdd66b91997"
      },
      "execution_count": 20,
      "outputs": [
        {
          "output_type": "stream",
          "name": "stdout",
          "text": [
            "[[-0.02810499 -0.18801432]\n",
            " [-0.00541218  0.53969044]\n",
            " [ 0.29627125 -0.46350293]\n",
            " ...\n",
            " [-0.6841999   0.89773487]\n",
            " [-0.02810499 -0.52724343]\n",
            " [-0.6841999  -0.51643995]]\n"
          ]
        }
      ]
    },
    {
      "cell_type": "code",
      "source": [
        "X_train = np.concatenate((X_train[:, :2], X_train_sc), axis=1)"
      ],
      "metadata": {
        "id": "Hb4QU6eaxGpG"
      },
      "execution_count": 21,
      "outputs": []
    },
    {
      "cell_type": "code",
      "source": [
        "print(X_train)"
      ],
      "metadata": {
        "id": "HeuChhl8wXVY",
        "colab": {
          "base_uri": "https://localhost:8080/"
        },
        "outputId": "8c0768bd-dd84-41ab-b70a-eb49959be8a7"
      },
      "execution_count": 22,
      "outputs": [
        {
          "output_type": "stream",
          "name": "stdout",
          "text": [
            "[[ 1.          3.         -0.02810499 -0.18801432]\n",
            " [ 0.          1.         -0.00541218  0.53969044]\n",
            " [ 0.          2.          0.29627125 -0.46350293]\n",
            " ...\n",
            " [ 1.          2.         -0.6841999   0.89773487]\n",
            " [ 0.          3.         -0.02810499 -0.52724343]\n",
            " [ 1.          3.         -0.6841999  -0.51643995]]\n"
          ]
        }
      ]
    },
    {
      "cell_type": "code",
      "source": [
        "print(X_test)"
      ],
      "metadata": {
        "id": "JIK09bn8103s",
        "colab": {
          "base_uri": "https://localhost:8080/"
        },
        "outputId": "adad9e98-1960-4533-e393-0cffb3549134"
      },
      "execution_count": 23,
      "outputs": [
        {
          "output_type": "stream",
          "name": "stdout",
          "text": [
            "[[  0.           1.          48.          25.9292    ]\n",
            " [  1.           3.          29.69911765   7.8958    ]\n",
            " [  0.           2.          17.          10.5       ]\n",
            " [  0.           3.          29.69911765   8.1375    ]\n",
            " [  0.           2.           7.          26.25      ]\n",
            " [  1.           3.          21.           7.8542    ]\n",
            " [  1.           2.          36.5         26.        ]\n",
            " [  0.           1.          35.          53.1       ]\n",
            " [  1.           1.          28.          82.1708    ]\n",
            " [  0.           3.          29.69911765  15.5       ]\n",
            " [  1.           3.          25.           7.8958    ]\n",
            " [  0.           3.          26.           7.925     ]\n",
            " [  1.           1.          54.          51.8625    ]\n",
            " [  1.           2.          29.69911765  13.        ]\n",
            " [  0.           3.          29.69911765   7.75      ]\n",
            " [  1.           1.          28.          26.55      ]\n",
            " [  1.           3.          10.          27.9       ]\n",
            " [  1.           3.          24.          16.1       ]\n",
            " [  1.           3.          36.           7.8958    ]\n",
            " [  0.           2.          24.          18.75      ]\n",
            " [  1.           3.          32.           7.925     ]\n",
            " [  1.           3.          26.          14.4542    ]\n",
            " [  0.           1.          24.          49.5042    ]\n",
            " [  1.           2.          18.          73.5       ]\n",
            " [  0.           3.          14.5         14.4542    ]\n",
            " [  1.           3.          27.           8.6625    ]\n",
            " [  0.           1.          21.         262.375     ]\n",
            " [  0.           2.          42.          13.        ]\n",
            " [  1.           2.          26.          10.5       ]\n",
            " [  0.           1.          22.         151.55      ]\n",
            " [  0.           3.          22.          10.5167    ]\n",
            " [  1.           1.          29.69911765  30.5       ]\n",
            " [  0.           3.          39.          31.275     ]\n",
            " [  0.           3.          25.           7.925     ]\n",
            " [  1.           3.          40.5          7.75      ]\n",
            " [  0.           3.           5.          31.3875    ]\n",
            " [  1.           1.          36.          26.2875    ]\n",
            " [  1.           3.          29.69911765   7.3125    ]\n",
            " [  1.           1.          25.          55.4417    ]\n",
            " [  1.           3.          20.           7.8542    ]\n",
            " [  0.           3.          27.           7.925     ]\n",
            " [  0.           3.          27.          11.1333    ]\n",
            " [  0.           1.          47.          52.5542    ]\n",
            " [  1.           1.          45.5         28.5       ]\n",
            " [  1.           2.           1.          37.0042    ]\n",
            " [  1.           3.          35.           7.05      ]\n",
            " [  1.           3.          11.          46.9       ]\n",
            " [  1.           2.          39.          13.        ]\n",
            " [  1.           1.          35.         512.3292    ]\n",
            " [  1.           2.          16.          10.5       ]\n",
            " [  1.           2.          29.69911765  15.05      ]\n",
            " [  0.           2.          21.          10.5       ]\n",
            " [  1.           2.          19.          10.5       ]\n",
            " [  1.           2.          36.          10.5       ]\n",
            " [  1.           3.          29.           9.5       ]\n",
            " [  0.           3.          24.          15.85      ]\n",
            " [  1.           2.          29.          10.5       ]\n",
            " [  1.           1.          61.          32.3208    ]\n",
            " [  1.           3.          39.          31.275     ]\n",
            " [  0.           3.          20.           8.6625    ]\n",
            " [  0.           3.          29.69911765  69.55      ]\n",
            " [  1.           3.          29.69911765   7.2292    ]\n",
            " [  1.           2.          28.          33.        ]\n",
            " [  1.           1.          45.          26.55      ]\n",
            " [  1.           1.          27.          53.1       ]\n",
            " [  0.           3.          29.          15.2458    ]\n",
            " [  1.           3.          20.          15.7417    ]\n",
            " [  1.           3.          26.          18.7875    ]\n",
            " [  0.           3.           2.          10.4625    ]\n",
            " [  1.           2.          43.          26.25      ]\n",
            " [  1.           3.          24.          24.15      ]\n",
            " [  1.           3.          14.          39.6875    ]\n",
            " [  1.           1.          46.          79.2       ]\n",
            " [  1.           3.          29.69911765   7.8958    ]\n",
            " [  0.           2.          57.          10.5       ]\n",
            " [  1.           2.          31.          37.0042    ]\n",
            " [  0.           1.          35.          52.        ]\n",
            " [  1.           3.          29.69911765   7.75      ]\n",
            " [  1.           1.          58.          29.7       ]\n",
            " [  0.           1.          16.          86.5       ]\n",
            " [  1.           3.          26.          56.4958    ]\n",
            " [  1.           3.          29.69911765  69.55      ]\n",
            " [  1.           3.          29.69911765   8.05      ]\n",
            " [  1.           3.          34.           6.4958    ]\n",
            " [  0.           2.          23.          13.7917    ]\n",
            " [  1.           3.          29.           9.4833    ]\n",
            " [  1.           3.          29.69911765   8.05      ]\n",
            " [  1.           3.          29.69911765   7.225     ]\n",
            " [  0.           3.           6.          31.275     ]\n",
            " [  0.           2.          30.          21.        ]\n",
            " [  1.           1.          47.          25.5875    ]\n",
            " [  1.           3.          29.69911765   8.7125    ]\n",
            " [  1.           3.          25.           7.7417    ]\n",
            " [  0.           3.          29.69911765   7.75      ]\n",
            " [  1.           3.          29.69911765   9.5       ]\n",
            " [  1.           1.          30.          27.75      ]\n",
            " [  1.           3.          59.           7.25      ]\n",
            " [  0.           3.          29.69911765   7.225     ]\n",
            " [  1.           3.          19.           7.8958    ]\n",
            " [  1.           3.          29.69911765   7.8958    ]\n",
            " [  1.           1.          29.69911765  39.6       ]\n",
            " [  1.           1.          38.           0.        ]\n",
            " [  1.           3.          29.69911765  15.2458    ]\n",
            " [  0.           3.          18.          14.4542    ]\n",
            " [  0.           1.          16.          57.9792    ]\n",
            " [  1.           3.          23.           9.225     ]\n",
            " [  1.           3.          29.           8.05      ]\n",
            " [  1.           3.          29.           7.875     ]\n",
            " [  1.           3.           7.          39.6875    ]\n",
            " [  1.           3.          42.           8.6625    ]\n",
            " [  1.           1.          49.          56.9292    ]\n",
            " [  1.           3.          22.           7.2292    ]\n",
            " [  1.           2.          48.          13.        ]\n",
            " [  1.           3.          25.           7.775     ]\n",
            " [  1.           2.          23.          13.        ]\n",
            " [  1.           3.          33.           7.775     ]\n",
            " [  1.           2.          29.          21.        ]\n",
            " [  1.           1.          31.          52.        ]\n",
            " [  0.           2.          36.          26.        ]\n",
            " [  0.           3.          31.           8.6833    ]\n",
            " [  0.           2.          28.          26.        ]\n",
            " [  1.           1.          52.          79.65      ]\n",
            " [  1.           3.          29.69911765   7.8958    ]\n",
            " [  1.           2.          18.          11.5       ]\n",
            " [  0.           1.          31.         164.8667    ]\n",
            " [  0.           1.          19.          30.        ]\n",
            " [  0.           2.          28.          13.        ]\n",
            " [  0.           3.          22.           7.775     ]\n",
            " [  1.           3.          29.69911765  69.55      ]\n",
            " [  1.           3.          29.69911765   7.75      ]\n",
            " [  1.           3.          24.           7.8958    ]\n",
            " [  1.           3.          44.           7.925     ]\n",
            " [  0.           3.           0.75        19.2583    ]\n",
            " [  1.           1.          27.          76.7292    ]\n",
            " [  0.           3.          33.          15.85      ]\n",
            " [  0.           1.          58.         146.5208    ]\n",
            " [  0.           1.          18.          79.65      ]\n",
            " [  1.           3.           1.          46.9       ]\n",
            " [  1.           3.          18.           6.4958    ]\n",
            " [  0.           3.          23.           7.55      ]\n",
            " [  0.           1.          25.         151.55      ]\n",
            " [  1.           3.          39.          24.15      ]\n",
            " [  0.           1.          14.         120.        ]\n",
            " [  0.           3.          29.69911765   8.05      ]\n",
            " [  1.           3.          29.69911765   7.775     ]\n",
            " [  0.           3.          18.          17.8       ]\n",
            " [  1.           2.          31.          10.5       ]\n",
            " [  1.           3.          29.69911765   8.05      ]\n",
            " [  0.           3.          39.          29.125     ]\n",
            " [  1.           3.          22.           7.8958    ]\n",
            " [  0.           3.           2.          12.2875    ]\n",
            " [  1.           3.          49.           0.        ]\n",
            " [  1.           3.           2.          29.125     ]\n",
            " [  0.           3.          22.           7.75      ]\n",
            " [  1.           3.          29.69911765  56.4958    ]\n",
            " [  1.           3.          32.           8.3625    ]\n",
            " [  1.           3.          22.           7.25      ]\n",
            " [  1.           3.          42.           7.55      ]\n",
            " [  0.           2.          27.          13.8583    ]\n",
            " [  1.           2.          23.          13.        ]\n",
            " [  1.           2.          37.          26.        ]\n",
            " [  1.           3.          28.           9.5       ]\n",
            " [  0.           3.          21.           7.65      ]\n",
            " [  1.           1.          28.          35.5       ]\n",
            " [  1.           3.          26.           8.6625    ]\n",
            " [  0.           3.          15.          14.4542    ]\n",
            " [  0.           2.          24.          27.        ]\n",
            " [  1.           3.          29.69911765  56.4958    ]\n",
            " [  1.           3.          16.           8.05      ]\n",
            " [  1.           1.          58.         113.275     ]\n",
            " [  0.           1.          35.         512.3292    ]\n",
            " [  0.           3.           2.          31.275     ]\n",
            " [  0.           1.          30.          86.5       ]\n",
            " [  1.           3.          18.           7.8542    ]\n",
            " [  0.           1.          49.          25.9292    ]\n",
            " [  1.           1.          29.69911765   0.        ]\n",
            " [  1.           3.          29.69911765   7.7333    ]\n",
            " [  1.           3.          21.           7.7333    ]\n",
            " [  0.           3.           5.          19.2583    ]]\n"
          ]
        }
      ]
    },
    {
      "cell_type": "code",
      "source": [
        "X_test = np.concatenate((X_test[:, :2], X_test_sc), axis=1)"
      ],
      "metadata": {
        "id": "u9Zned-1B1ES"
      },
      "execution_count": 24,
      "outputs": []
    },
    {
      "cell_type": "code",
      "source": [
        "print(X_test)"
      ],
      "metadata": {
        "id": "Z_v1TQou143M",
        "colab": {
          "base_uri": "https://localhost:8080/"
        },
        "outputId": "8b93f684-ea35-4aae-c5c9-35fbbf9ebaa3"
      },
      "execution_count": 25,
      "outputs": [
        {
          "output_type": "stream",
          "name": "stdout",
          "text": [
            "[[ 0.00000000e+00  1.00000000e+00  1.35216325e+00 -1.30124987e-01]\n",
            " [ 1.00000000e+00  3.00000000e+00 -2.81049867e-02 -5.19771744e-01]\n",
            " [ 0.00000000e+00  2.00000000e+00 -9.85883324e-01 -4.63502927e-01]\n",
            " [ 0.00000000e+00  3.00000000e+00 -2.81049867e-02 -5.14549344e-01]\n",
            " [ 0.00000000e+00  2.00000000e+00 -1.74009189e+00 -1.23193477e-01]\n",
            " [ 1.00000000e+00  3.00000000e+00 -6.84199895e-01 -5.20670593e-01]\n",
            " [ 1.00000000e+00  2.00000000e+00  4.84823389e-01 -1.28595215e-01]\n",
            " [ 0.00000000e+00  1.00000000e+00  3.71692104e-01  4.56953108e-01]\n",
            " [ 1.00000000e+00  1.00000000e+00 -1.56253896e-01  1.08508441e+00]\n",
            " [ 0.00000000e+00  3.00000000e+00 -2.81049867e-02 -3.55468181e-01]\n",
            " [ 1.00000000e+00  3.00000000e+00 -3.82516467e-01 -5.19771744e-01]\n",
            " [ 0.00000000e+00  3.00000000e+00 -3.07095610e-01 -5.19140821e-01]\n",
            " [ 1.00000000e+00  1.00000000e+00  1.80468839e+00  4.30214508e-01]\n",
            " [ 1.00000000e+00  2.00000000e+00 -2.81049867e-02 -4.09485554e-01]\n",
            " [ 0.00000000e+00  3.00000000e+00 -2.81049867e-02 -5.22922037e-01]\n",
            " [ 1.00000000e+00  1.00000000e+00 -1.56253896e-01 -1.16711393e-01]\n",
            " [ 1.00000000e+00  3.00000000e+00 -1.51382932e+00 -8.75420112e-02]\n",
            " [ 1.00000000e+00  3.00000000e+00 -4.57937324e-01 -3.42504011e-01]\n",
            " [ 1.00000000e+00  3.00000000e+00  4.47112961e-01 -5.19771744e-01]\n",
            " [ 0.00000000e+00  2.00000000e+00 -4.57937324e-01 -2.85245596e-01]\n",
            " [ 1.00000000e+00  3.00000000e+00  1.45429532e-01 -5.19140821e-01]\n",
            " [ 1.00000000e+00  3.00000000e+00 -3.07095610e-01 -3.78064728e-01]\n",
            " [ 0.00000000e+00  1.00000000e+00 -4.57937324e-01  3.79258840e-01]\n",
            " [ 1.00000000e+00  2.00000000e+00 -9.10462467e-01  8.97734871e-01]\n",
            " [ 0.00000000e+00  3.00000000e+00 -1.17443547e+00 -3.78064728e-01]\n",
            " [ 1.00000000e+00  3.00000000e+00 -2.31674753e-01 -5.03205696e-01]\n",
            " [ 0.00000000e+00  1.00000000e+00 -6.84199895e-01  4.97874740e+00]\n",
            " [ 0.00000000e+00  2.00000000e+00  8.99638103e-01 -4.09485554e-01]\n",
            " [ 1.00000000e+00  2.00000000e+00 -3.07095610e-01 -4.63502927e-01]\n",
            " [ 0.00000000e+00  1.00000000e+00 -6.08779038e-01  2.58415725e+00]\n",
            " [ 0.00000000e+00  3.00000000e+00 -6.08779038e-01 -4.63142091e-01]\n",
            " [ 1.00000000e+00  1.00000000e+00 -2.81049867e-02 -3.13639434e-02]\n",
            " [ 0.00000000e+00  3.00000000e+00  6.73375532e-01 -1.46185578e-02]\n",
            " [ 0.00000000e+00  3.00000000e+00 -3.82516467e-01 -5.19140821e-01]\n",
            " [ 1.00000000e+00  3.00000000e+00  7.86506818e-01 -5.22922037e-01]\n",
            " [ 0.00000000e+00  3.00000000e+00 -1.89093361e+00 -1.21877760e-02]\n",
            " [ 1.00000000e+00  1.00000000e+00  4.47112961e-01 -1.22383217e-01]\n",
            " [ 1.00000000e+00  3.00000000e+00 -2.81049867e-02 -5.32375077e-01]\n",
            " [ 1.00000000e+00  1.00000000e+00 -3.82516467e-01  5.07550101e-01]\n",
            " [ 1.00000000e+00  3.00000000e+00 -7.59620753e-01 -5.20670593e-01]\n",
            " [ 0.00000000e+00  3.00000000e+00 -2.31674753e-01 -5.19140821e-01]\n",
            " [ 0.00000000e+00  3.00000000e+00 -2.31674753e-01 -4.49819246e-01]\n",
            " [ 0.00000000e+00  1.00000000e+00  1.27674239e+00  4.45160035e-01]\n",
            " [ 1.00000000e+00  1.00000000e+00  1.16361110e+00 -7.45778417e-02]\n",
            " [ 1.00000000e+00  2.00000000e+00 -2.19261704e+00  1.09171975e-01]\n",
            " [ 1.00000000e+00  3.00000000e+00  3.71692104e-01 -5.38046902e-01]\n",
            " [ 1.00000000e+00  3.00000000e+00 -1.43840847e+00  3.22990023e-01]\n",
            " [ 1.00000000e+00  2.00000000e+00  6.73375532e-01 -4.09485554e-01]\n",
            " [ 1.00000000e+00  1.00000000e+00  3.71692104e-01  1.03794951e+01]\n",
            " [ 1.00000000e+00  2.00000000e+00 -1.06130418e+00 -4.63502927e-01]\n",
            " [ 1.00000000e+00  2.00000000e+00 -2.81049867e-02 -3.65191308e-01]\n",
            " [ 0.00000000e+00  2.00000000e+00 -6.84199895e-01 -4.63502927e-01]\n",
            " [ 1.00000000e+00  2.00000000e+00 -8.35041610e-01 -4.63502927e-01]\n",
            " [ 1.00000000e+00  2.00000000e+00  4.47112961e-01 -4.63502927e-01]\n",
            " [ 1.00000000e+00  3.00000000e+00 -8.08330388e-02 -4.85109876e-01]\n",
            " [ 0.00000000e+00  3.00000000e+00 -4.57937324e-01 -3.47905749e-01]\n",
            " [ 1.00000000e+00  2.00000000e+00 -8.08330388e-02 -4.63502927e-01]\n",
            " [ 1.00000000e+00  1.00000000e+00  2.33263439e+00  7.97798968e-03]\n",
            " [ 1.00000000e+00  3.00000000e+00  6.73375532e-01 -1.46185578e-02]\n",
            " [ 0.00000000e+00  3.00000000e+00 -7.59620753e-01 -5.03205696e-01]\n",
            " [ 0.00000000e+00  3.00000000e+00 -2.81049867e-02  8.12387422e-01]\n",
            " [ 1.00000000e+00  3.00000000e+00 -2.81049867e-02 -5.34174936e-01]\n",
            " [ 1.00000000e+00  2.00000000e+00 -1.56253896e-01  2.26534296e-02]\n",
            " [ 1.00000000e+00  1.00000000e+00  1.12590067e+00 -1.16711393e-01]\n",
            " [ 1.00000000e+00  1.00000000e+00 -2.31674753e-01  4.56953108e-01]\n",
            " [ 0.00000000e+00  3.00000000e+00 -8.08330388e-02 -3.60960667e-01]\n",
            " [ 1.00000000e+00  3.00000000e+00 -7.59620753e-01 -3.50245781e-01]\n",
            " [ 1.00000000e+00  3.00000000e+00 -3.07095610e-01 -2.84435336e-01]\n",
            " [ 0.00000000e+00  3.00000000e+00 -2.11719618e+00 -4.64313187e-01]\n",
            " [ 1.00000000e+00  2.00000000e+00  9.75058960e-01 -1.23193477e-01]\n",
            " [ 1.00000000e+00  3.00000000e+00 -4.57937324e-01 -1.68568071e-01]\n",
            " [ 1.00000000e+00  3.00000000e+00 -1.21214590e+00  1.67149902e-01]\n",
            " [ 1.00000000e+00  1.00000000e+00  1.20132153e+00  1.02089448e+00]\n",
            " [ 1.00000000e+00  3.00000000e+00 -2.81049867e-02 -5.19771744e-01]\n",
            " [ 0.00000000e+00  2.00000000e+00  2.03095096e+00 -4.63502927e-01]\n",
            " [ 1.00000000e+00  2.00000000e+00  7.00086753e-02  1.09171975e-01]\n",
            " [ 0.00000000e+00  1.00000000e+00  3.71692104e-01  4.33185464e-01]\n",
            " [ 1.00000000e+00  3.00000000e+00 -2.81049867e-02 -5.22922037e-01]\n",
            " [ 1.00000000e+00  1.00000000e+00  2.10637182e+00 -4.86495027e-02]\n",
            " [ 0.00000000e+00  1.00000000e+00 -1.06130418e+00  1.17862521e+00]\n",
            " [ 1.00000000e+00  3.00000000e+00 -3.07095610e-01  5.30325986e-01]\n",
            " [ 1.00000000e+00  3.00000000e+00 -2.81049867e-02  8.12387422e-01]\n",
            " [ 1.00000000e+00  3.00000000e+00 -2.81049867e-02 -5.16439952e-01]\n",
            " [ 1.00000000e+00  3.00000000e+00  2.96271247e-01 -5.50021473e-01]\n",
            " [ 0.00000000e+00  2.00000000e+00 -5.33358181e-01 -3.92379332e-01]\n",
            " [ 1.00000000e+00  3.00000000e+00 -8.08330388e-02 -4.85470712e-01]\n",
            " [ 1.00000000e+00  3.00000000e+00 -2.81049867e-02 -5.16439952e-01]\n",
            " [ 1.00000000e+00  3.00000000e+00 -2.81049867e-02 -5.34265685e-01]\n",
            " [ 0.00000000e+00  3.00000000e+00 -1.81551275e+00 -1.46185578e-02]\n",
            " [ 0.00000000e+00  2.00000000e+00 -5.41218176e-03 -2.36629961e-01]\n",
            " [ 1.00000000e+00  1.00000000e+00  1.27674239e+00 -1.37508081e-01]\n",
            " [ 1.00000000e+00  3.00000000e+00 -2.81049867e-02 -5.02125349e-01]\n",
            " [ 1.00000000e+00  3.00000000e+00 -3.82516467e-01 -5.23101375e-01]\n",
            " [ 0.00000000e+00  3.00000000e+00 -2.81049867e-02 -5.22922037e-01]\n",
            " [ 1.00000000e+00  3.00000000e+00 -2.81049867e-02 -4.85109876e-01]\n",
            " [ 1.00000000e+00  1.00000000e+00 -5.41218176e-03 -9.07830536e-02]\n",
            " [ 1.00000000e+00  3.00000000e+00  2.18179267e+00 -5.33725512e-01]\n",
            " [ 0.00000000e+00  3.00000000e+00 -2.81049867e-02 -5.34265685e-01]\n",
            " [ 1.00000000e+00  3.00000000e+00 -8.35041610e-01 -5.19771744e-01]\n",
            " [ 1.00000000e+00  3.00000000e+00 -2.81049867e-02 -5.19771744e-01]\n",
            " [ 1.00000000e+00  1.00000000e+00 -2.81049867e-02  1.65259294e-01]\n",
            " [ 1.00000000e+00  1.00000000e+00  5.97954675e-01 -6.90375893e-01]\n",
            " [ 1.00000000e+00  3.00000000e+00 -2.81049867e-02 -3.60960667e-01]\n",
            " [ 0.00000000e+00  3.00000000e+00 -9.10462467e-01 -3.78064728e-01]\n",
            " [ 0.00000000e+00  1.00000000e+00 -1.06130418e+00  5.62377734e-01]\n",
            " [ 1.00000000e+00  3.00000000e+00 -5.33358181e-01 -4.91051787e-01]\n",
            " [ 1.00000000e+00  3.00000000e+00 -8.08330388e-02 -5.16439952e-01]\n",
            " [ 1.00000000e+00  3.00000000e+00 -8.08330388e-02 -5.20221168e-01]\n",
            " [ 1.00000000e+00  3.00000000e+00 -1.74009189e+00  1.67149902e-01]\n",
            " [ 1.00000000e+00  3.00000000e+00  8.99638103e-01 -5.03205696e-01]\n",
            " [ 1.00000000e+00  1.00000000e+00  1.42758410e+00  5.39690438e-01]\n",
            " [ 1.00000000e+00  3.00000000e+00 -6.08779038e-01 -5.34174936e-01]\n",
            " [ 1.00000000e+00  2.00000000e+00  1.35216325e+00 -4.09485554e-01]\n",
            " [ 1.00000000e+00  3.00000000e+00 -3.82516467e-01 -5.22381863e-01]\n",
            " [ 1.00000000e+00  2.00000000e+00 -5.33358181e-01 -4.09485554e-01]\n",
            " [ 1.00000000e+00  3.00000000e+00  2.20850389e-01 -5.22381863e-01]\n",
            " [ 1.00000000e+00  2.00000000e+00 -8.08330388e-02 -2.36629961e-01]\n",
            " [ 1.00000000e+00  1.00000000e+00  7.00086753e-02  4.33185464e-01]\n",
            " [ 0.00000000e+00  2.00000000e+00  4.47112961e-01 -1.28595215e-01]\n",
            " [ 0.00000000e+00  3.00000000e+00  7.00086753e-02 -5.02756271e-01]\n",
            " [ 0.00000000e+00  2.00000000e+00 -1.56253896e-01 -1.28595215e-01]\n",
            " [ 1.00000000e+00  1.00000000e+00  1.65384667e+00  1.03061761e+00]\n",
            " [ 1.00000000e+00  3.00000000e+00 -2.81049867e-02 -5.19771744e-01]\n",
            " [ 1.00000000e+00  2.00000000e+00 -9.10462467e-01 -4.41895978e-01]\n",
            " [ 0.00000000e+00  1.00000000e+00  7.00086753e-02  2.87189051e+00]\n",
            " [ 0.00000000e+00  1.00000000e+00 -8.35041610e-01 -4.21674180e-02]\n",
            " [ 0.00000000e+00  2.00000000e+00 -1.56253896e-01 -4.09485554e-01]\n",
            " [ 0.00000000e+00  3.00000000e+00 -6.08779038e-01 -5.22381863e-01]\n",
            " [ 1.00000000e+00  3.00000000e+00 -2.81049867e-02  8.12387422e-01]\n",
            " [ 1.00000000e+00  3.00000000e+00 -2.81049867e-02 -5.22922037e-01]\n",
            " [ 1.00000000e+00  3.00000000e+00 -4.57937324e-01 -5.19771744e-01]\n",
            " [ 1.00000000e+00  3.00000000e+00  1.05047982e+00 -5.19140821e-01]\n",
            " [ 0.00000000e+00  3.00000000e+00 -2.21147225e+00 -2.74262784e-01]\n",
            " [ 1.00000000e+00  1.00000000e+00 -2.31674753e-01  9.67508031e-01]\n",
            " [ 0.00000000e+00  3.00000000e+00  2.20850389e-01 -3.47905749e-01]\n",
            " [ 0.00000000e+00  1.00000000e+00  2.10637182e+00  2.47549159e+00]\n",
            " [ 0.00000000e+00  1.00000000e+00 -9.10462467e-01  1.03061761e+00]\n",
            " [ 1.00000000e+00  3.00000000e+00 -2.19261704e+00  3.22990023e-01]\n",
            " [ 1.00000000e+00  3.00000000e+00 -9.10462467e-01 -5.50021473e-01]\n",
            " [ 0.00000000e+00  3.00000000e+00 -5.33358181e-01 -5.27243427e-01]\n",
            " [ 0.00000000e+00  1.00000000e+00 -3.82516467e-01  2.58415725e+00]\n",
            " [ 1.00000000e+00  3.00000000e+00  6.73375532e-01 -1.68568071e-01]\n",
            " [ 0.00000000e+00  1.00000000e+00 -1.21214590e+00  1.90245801e+00]\n",
            " [ 0.00000000e+00  3.00000000e+00 -2.81049867e-02 -5.16439952e-01]\n",
            " [ 1.00000000e+00  3.00000000e+00 -2.81049867e-02 -5.22381863e-01]\n",
            " [ 0.00000000e+00  3.00000000e+00 -9.10462467e-01 -3.05772198e-01]\n",
            " [ 1.00000000e+00  2.00000000e+00  7.00086753e-02 -4.63502927e-01]\n",
            " [ 1.00000000e+00  3.00000000e+00 -2.81049867e-02 -5.16439952e-01]\n",
            " [ 0.00000000e+00  3.00000000e+00  6.73375532e-01 -6.10734985e-02]\n",
            " [ 1.00000000e+00  3.00000000e+00 -6.08779038e-01 -5.19771744e-01]\n",
            " [ 0.00000000e+00  3.00000000e+00 -2.11719618e+00 -4.24880505e-01]\n",
            " [ 1.00000000e+00  3.00000000e+00  1.42758410e+00 -6.90375893e-01]\n",
            " [ 1.00000000e+00  3.00000000e+00 -2.11719618e+00 -6.10734985e-02]\n",
            " [ 0.00000000e+00  3.00000000e+00 -6.08779038e-01 -5.22922037e-01]\n",
            " [ 1.00000000e+00  3.00000000e+00 -2.81049867e-02  5.30325986e-01]\n",
            " [ 1.00000000e+00  3.00000000e+00  1.45429532e-01 -5.09687781e-01]\n",
            " [ 1.00000000e+00  3.00000000e+00 -6.08779038e-01 -5.33725512e-01]\n",
            " [ 1.00000000e+00  3.00000000e+00  8.99638103e-01 -5.27243427e-01]\n",
            " [ 0.00000000e+00  2.00000000e+00 -2.31674753e-01 -3.90940309e-01]\n",
            " [ 1.00000000e+00  2.00000000e+00 -5.33358181e-01 -4.09485554e-01]\n",
            " [ 1.00000000e+00  2.00000000e+00  5.22533818e-01 -1.28595215e-01]\n",
            " [ 1.00000000e+00  3.00000000e+00 -1.56253896e-01 -4.85109876e-01]\n",
            " [ 0.00000000e+00  3.00000000e+00 -6.84199895e-01 -5.25082732e-01]\n",
            " [ 1.00000000e+00  1.00000000e+00 -1.56253896e-01  7.66708025e-02]\n",
            " [ 1.00000000e+00  3.00000000e+00 -3.07095610e-01 -5.03205696e-01]\n",
            " [ 0.00000000e+00  3.00000000e+00 -1.13672504e+00 -3.78064728e-01]\n",
            " [ 0.00000000e+00  2.00000000e+00 -4.57937324e-01 -1.06988265e-01]\n",
            " [ 1.00000000e+00  3.00000000e+00 -2.81049867e-02  5.30325986e-01]\n",
            " [ 1.00000000e+00  3.00000000e+00 -1.06130418e+00 -5.16439952e-01]\n",
            " [ 1.00000000e+00  1.00000000e+00  2.10637182e+00  1.75715127e+00]\n",
            " [ 0.00000000e+00  1.00000000e+00  3.71692104e-01  1.03794951e+01]\n",
            " [ 0.00000000e+00  3.00000000e+00 -2.11719618e+00 -1.46185578e-02]\n",
            " [ 0.00000000e+00  1.00000000e+00 -5.41218176e-03  1.17862521e+00]\n",
            " [ 1.00000000e+00  3.00000000e+00 -9.10462467e-01 -5.20670593e-01]\n",
            " [ 0.00000000e+00  1.00000000e+00  1.42758410e+00 -1.30124987e-01]\n",
            " [ 1.00000000e+00  1.00000000e+00 -2.81049867e-02 -6.90375893e-01]\n",
            " [ 1.00000000e+00  3.00000000e+00 -2.81049867e-02 -5.23282873e-01]\n",
            " [ 1.00000000e+00  3.00000000e+00 -6.84199895e-01 -5.23282873e-01]\n",
            " [ 0.00000000e+00  3.00000000e+00 -1.89093361e+00 -2.74262784e-01]]\n"
          ]
        }
      ]
    },
    {
      "cell_type": "code",
      "source": [
        "#ann = tf.keras.models.Sequential()"
      ],
      "metadata": {
        "id": "uCmfm45g7_7m"
      },
      "execution_count": 26,
      "outputs": []
    },
    {
      "cell_type": "code",
      "source": [
        "#ann.add(tf.keras.layers.Dense(units = 6, activation='relu'))"
      ],
      "metadata": {
        "id": "e3KA7VDb8JsX"
      },
      "execution_count": 27,
      "outputs": []
    },
    {
      "cell_type": "code",
      "source": [
        "#ann.add(tf.keras.layers.Dense(units = 6, activation='relu'))"
      ],
      "metadata": {
        "id": "EibOu_nR8KS1"
      },
      "execution_count": 28,
      "outputs": []
    },
    {
      "cell_type": "code",
      "source": [
        "#ann.add(tf.keras.layers.Dense(units = 1, activation='sigmoid'))"
      ],
      "metadata": {
        "id": "459ePvT68Kbl"
      },
      "execution_count": 29,
      "outputs": []
    },
    {
      "cell_type": "code",
      "source": [
        "#ann.compile(optimizer = 'adam', loss = 'binary_crossentropy', metrics = ['accuracy'])"
      ],
      "metadata": {
        "id": "4LUx2l_o8KjF"
      },
      "execution_count": 30,
      "outputs": []
    },
    {
      "cell_type": "code",
      "source": [
        "#ann.fit(X_train, y_train, batch_size = 32, epochs = 100)"
      ],
      "metadata": {
        "id": "I1-wWpmD8KpN"
      },
      "execution_count": 31,
      "outputs": []
    },
    {
      "cell_type": "code",
      "source": [
        "from sklearn.svm import SVC\n",
        "classifier = SVC(C = 0.75, kernel = 'rbf', random_state = 0, gamma = 0.9)\n",
        "classifier.fit(X_train, y_train)"
      ],
      "metadata": {
        "id": "Rl2wpSavrSKl",
        "colab": {
          "base_uri": "https://localhost:8080/",
          "height": 74
        },
        "outputId": "2b4a48d5-7ac2-46cf-ac3b-3a1540b2def2"
      },
      "execution_count": 32,
      "outputs": [
        {
          "output_type": "execute_result",
          "data": {
            "text/plain": [
              "SVC(C=0.75, gamma=0.9, random_state=0)"
            ],
            "text/html": [
              "<style>#sk-container-id-1 {color: black;background-color: white;}#sk-container-id-1 pre{padding: 0;}#sk-container-id-1 div.sk-toggleable {background-color: white;}#sk-container-id-1 label.sk-toggleable__label {cursor: pointer;display: block;width: 100%;margin-bottom: 0;padding: 0.3em;box-sizing: border-box;text-align: center;}#sk-container-id-1 label.sk-toggleable__label-arrow:before {content: \"▸\";float: left;margin-right: 0.25em;color: #696969;}#sk-container-id-1 label.sk-toggleable__label-arrow:hover:before {color: black;}#sk-container-id-1 div.sk-estimator:hover label.sk-toggleable__label-arrow:before {color: black;}#sk-container-id-1 div.sk-toggleable__content {max-height: 0;max-width: 0;overflow: hidden;text-align: left;background-color: #f0f8ff;}#sk-container-id-1 div.sk-toggleable__content pre {margin: 0.2em;color: black;border-radius: 0.25em;background-color: #f0f8ff;}#sk-container-id-1 input.sk-toggleable__control:checked~div.sk-toggleable__content {max-height: 200px;max-width: 100%;overflow: auto;}#sk-container-id-1 input.sk-toggleable__control:checked~label.sk-toggleable__label-arrow:before {content: \"▾\";}#sk-container-id-1 div.sk-estimator input.sk-toggleable__control:checked~label.sk-toggleable__label {background-color: #d4ebff;}#sk-container-id-1 div.sk-label input.sk-toggleable__control:checked~label.sk-toggleable__label {background-color: #d4ebff;}#sk-container-id-1 input.sk-hidden--visually {border: 0;clip: rect(1px 1px 1px 1px);clip: rect(1px, 1px, 1px, 1px);height: 1px;margin: -1px;overflow: hidden;padding: 0;position: absolute;width: 1px;}#sk-container-id-1 div.sk-estimator {font-family: monospace;background-color: #f0f8ff;border: 1px dotted black;border-radius: 0.25em;box-sizing: border-box;margin-bottom: 0.5em;}#sk-container-id-1 div.sk-estimator:hover {background-color: #d4ebff;}#sk-container-id-1 div.sk-parallel-item::after {content: \"\";width: 100%;border-bottom: 1px solid gray;flex-grow: 1;}#sk-container-id-1 div.sk-label:hover label.sk-toggleable__label {background-color: #d4ebff;}#sk-container-id-1 div.sk-serial::before {content: \"\";position: absolute;border-left: 1px solid gray;box-sizing: border-box;top: 0;bottom: 0;left: 50%;z-index: 0;}#sk-container-id-1 div.sk-serial {display: flex;flex-direction: column;align-items: center;background-color: white;padding-right: 0.2em;padding-left: 0.2em;position: relative;}#sk-container-id-1 div.sk-item {position: relative;z-index: 1;}#sk-container-id-1 div.sk-parallel {display: flex;align-items: stretch;justify-content: center;background-color: white;position: relative;}#sk-container-id-1 div.sk-item::before, #sk-container-id-1 div.sk-parallel-item::before {content: \"\";position: absolute;border-left: 1px solid gray;box-sizing: border-box;top: 0;bottom: 0;left: 50%;z-index: -1;}#sk-container-id-1 div.sk-parallel-item {display: flex;flex-direction: column;z-index: 1;position: relative;background-color: white;}#sk-container-id-1 div.sk-parallel-item:first-child::after {align-self: flex-end;width: 50%;}#sk-container-id-1 div.sk-parallel-item:last-child::after {align-self: flex-start;width: 50%;}#sk-container-id-1 div.sk-parallel-item:only-child::after {width: 0;}#sk-container-id-1 div.sk-dashed-wrapped {border: 1px dashed gray;margin: 0 0.4em 0.5em 0.4em;box-sizing: border-box;padding-bottom: 0.4em;background-color: white;}#sk-container-id-1 div.sk-label label {font-family: monospace;font-weight: bold;display: inline-block;line-height: 1.2em;}#sk-container-id-1 div.sk-label-container {text-align: center;}#sk-container-id-1 div.sk-container {/* jupyter's `normalize.less` sets `[hidden] { display: none; }` but bootstrap.min.css set `[hidden] { display: none !important; }` so we also need the `!important` here to be able to override the default hidden behavior on the sphinx rendered scikit-learn.org. See: https://github.com/scikit-learn/scikit-learn/issues/21755 */display: inline-block !important;position: relative;}#sk-container-id-1 div.sk-text-repr-fallback {display: none;}</style><div id=\"sk-container-id-1\" class=\"sk-top-container\"><div class=\"sk-text-repr-fallback\"><pre>SVC(C=0.75, gamma=0.9, random_state=0)</pre><b>In a Jupyter environment, please rerun this cell to show the HTML representation or trust the notebook. <br />On GitHub, the HTML representation is unable to render, please try loading this page with nbviewer.org.</b></div><div class=\"sk-container\" hidden><div class=\"sk-item\"><div class=\"sk-estimator sk-toggleable\"><input class=\"sk-toggleable__control sk-hidden--visually\" id=\"sk-estimator-id-1\" type=\"checkbox\" checked><label for=\"sk-estimator-id-1\" class=\"sk-toggleable__label sk-toggleable__label-arrow\">SVC</label><div class=\"sk-toggleable__content\"><pre>SVC(C=0.75, gamma=0.9, random_state=0)</pre></div></div></div></div></div>"
            ]
          },
          "metadata": {},
          "execution_count": 32
        }
      ]
    },
    {
      "cell_type": "code",
      "source": [
        "#from sklearn.tree import DecisionTreeClassifier\n",
        "#classifier = DecisionTreeClassifier(criterion='entropy', random_state=0, min_samples_split=90)\n",
        "#classifier.fit(X_train, y_train)"
      ],
      "metadata": {
        "id": "GeDT65kXhdPn"
      },
      "execution_count": 33,
      "outputs": []
    },
    {
      "cell_type": "code",
      "source": [
        "#from sklearn.ensemble import RandomForestClassifier\n",
        "#classifier = RandomForestClassifier(n_estimators=30, criterion='entropy', random_state=0, min_samples_split=90)\n",
        "#classifier.fit(X_train, y_train)"
      ],
      "metadata": {
        "id": "uub1wQSxk9w_"
      },
      "execution_count": 34,
      "outputs": []
    },
    {
      "cell_type": "code",
      "source": [
        "#from sklearn.linear_model import LogisticRegression\n",
        "#classifier = LogisticRegression(random_state=0)\n",
        "#classifier.fit(X_train, y_train)"
      ],
      "metadata": {
        "id": "VjtGQ-WUFxuL"
      },
      "execution_count": 35,
      "outputs": []
    },
    {
      "cell_type": "code",
      "source": [
        "#from sklearn.neighbors import KNeighborsClassifier\n",
        "#classifier = KNeighborsClassifier(n_neighbors=5, metric='minkowski', p=2)\n",
        "#classifier.fit(X_train, y_train)"
      ],
      "metadata": {
        "id": "sBJ_TbmkJ6JK"
      },
      "execution_count": 36,
      "outputs": []
    },
    {
      "cell_type": "code",
      "source": [
        "#from sklearn.naive_bayes import GaussianNB\n",
        "#classifier = GaussianNB()\n",
        "#classifier.fit(X_train, y_train)"
      ],
      "metadata": {
        "id": "TSE-4KcOTjEK"
      },
      "execution_count": 37,
      "outputs": []
    },
    {
      "cell_type": "code",
      "source": [
        "#from xgboost import XGBClassifier\n",
        "#classifier = XGBClassifier()\n",
        "#classifier.fit(X_train, y_train)"
      ],
      "metadata": {
        "id": "R5b67NO3WHda"
      },
      "execution_count": 38,
      "outputs": []
    },
    {
      "cell_type": "code",
      "source": [
        "y_pred = classifier.predict(X_test)"
      ],
      "metadata": {
        "id": "bLsD4ip93n2x"
      },
      "execution_count": 39,
      "outputs": []
    },
    {
      "cell_type": "code",
      "source": [
        "#y_pred = ann.predict(X_test)\n",
        "#y_pred = (y_pred > 0.5)\n",
        "#print(np.concatenate((y_pred.reshape(len(y_pred),1), y_test.reshape(len(y_test),1)),1))"
      ],
      "metadata": {
        "id": "w_bzEUWWF8v3"
      },
      "execution_count": 40,
      "outputs": []
    },
    {
      "cell_type": "code",
      "source": [
        "from sklearn.metrics import confusion_matrix, accuracy_score\n",
        "cm = confusion_matrix(y_test, y_pred)\n",
        "print(cm)\n",
        "accuracy_score(y_test, y_pred)"
      ],
      "metadata": {
        "colab": {
          "base_uri": "https://localhost:8080/"
        },
        "id": "a0xio27q4-Gu",
        "outputId": "fba67744-15a6-4c19-e009-c1d58d657f49"
      },
      "execution_count": 41,
      "outputs": [
        {
          "output_type": "stream",
          "name": "stdout",
          "text": [
            "[[95 11]\n",
            " [23 50]]\n"
          ]
        },
        {
          "output_type": "execute_result",
          "data": {
            "text/plain": [
              "0.8100558659217877"
            ]
          },
          "metadata": {},
          "execution_count": 41
        }
      ]
    },
    {
      "cell_type": "code",
      "source": [
        "from sklearn.model_selection import cross_val_score\n",
        "accuracies = cross_val_score(estimator = classifier, X = X_train, y = y_train, cv=10)\n",
        "print(\"Accuracy: {:.2f} %\".format(accuracies.mean()*100))\n",
        "print(\"Standard Deviation: {:.2f} %\".format(accuracies.std()*100))"
      ],
      "metadata": {
        "colab": {
          "base_uri": "https://localhost:8080/"
        },
        "id": "GfuQM_meGhS4",
        "outputId": "9d85fbbc-a132-4231-83ae-4dc8efcc9489"
      },
      "execution_count": 42,
      "outputs": [
        {
          "output_type": "stream",
          "name": "stdout",
          "text": [
            "Accuracy: 81.61 %\n",
            "Standard Deviation: 2.26 %\n"
          ]
        }
      ]
    },
    {
      "cell_type": "code",
      "source": [
        "#from sklearn.model_selection import GridSearchCV\n",
        "#parameters = [{'C': [0.25, 0.5, 0.75, 1], 'kernel': ['linear']},\n",
        "#              {'C': [0.25, 0.5, 0.75, 1], 'kernel': ['rbf'], 'gamma': [0.1, 0.2, 0.3, 0.4, 0.5, 0.6, 0.7, 0.8, 0.9]}]\n",
        "#grid_search = GridSearchCV(estimator = classifier, \n",
        "#                           param_grid = parameters,\n",
        "#                           scoring = 'accuracy',\n",
        "#                           cv = 10,\n",
        "#                           n_jobs = -1)    \n",
        "#grid_search.fit(X_train, y_train)\n",
        "#best_accuracy = grid_search.best_score_\n",
        "#best_parameters = grid_search.best_params_\n",
        "#print(\"Accuracy: {:.2f} %\".format(best_accuracy*100))\n",
        "#print('Best parameters', best_parameters)"
      ],
      "metadata": {
        "id": "eWLQAt6GPxlg"
      },
      "execution_count": 43,
      "outputs": []
    }
  ],
  "metadata": {
    "kernelspec": {
      "display_name": "Python 3",
      "language": "python",
      "name": "python3"
    },
    "language_info": {
      "codemirror_mode": {
        "name": "ipython",
        "version": 3
      },
      "file_extension": ".py",
      "mimetype": "text/x-python",
      "name": "python",
      "nbconvert_exporter": "python",
      "pygments_lexer": "ipython3",
      "version": "3.7.4"
    },
    "colab": {
      "provenance": [],
      "include_colab_link": true
    }
  },
  "nbformat": 4,
  "nbformat_minor": 0
}