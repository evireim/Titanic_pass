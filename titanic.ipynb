{
  "cells": [
    {
      "cell_type": "markdown",
      "metadata": {
        "id": "view-in-github",
        "colab_type": "text"
      },
      "source": [
        "<a href=\"https://colab.research.google.com/github/evireim/Titanic_pass/blob/main/titanic.ipynb\" target=\"_parent\"><img src=\"https://colab.research.google.com/assets/colab-badge.svg\" alt=\"Open In Colab\"/></a>"
      ]
    },
    {
      "cell_type": "code",
      "source": [
        "import pandas as pd\n",
        "import numpy as np\n",
        "import matplotlib.pyplot as plt"
      ],
      "metadata": {
        "id": "i5d4bmD-j7qD"
      },
      "execution_count": 137,
      "outputs": []
    },
    {
      "cell_type": "code",
      "source": [
        "ds = pd.read_csv('train.csv')\n"
      ],
      "metadata": {
        "id": "KzqqNDOXkEP-"
      },
      "execution_count": 138,
      "outputs": []
    },
    {
      "cell_type": "code",
      "source": [
        "ds_sex = ds.iloc[:, 4:5].values"
      ],
      "metadata": {
        "id": "laOvmanCEMlV"
      },
      "execution_count": 139,
      "outputs": []
    },
    {
      "cell_type": "code",
      "source": [
        "from sklearn.preprocessing import LabelEncoder\n",
        "le = LabelEncoder()\n",
        "ds_sex = le.fit_transform(ds_sex)"
      ],
      "metadata": {
        "colab": {
          "base_uri": "https://localhost:8080/"
        },
        "id": "J2jVUBK_Et7b",
        "outputId": "3a468464-2d4a-4478-c8ce-8782633d527f"
      },
      "execution_count": 140,
      "outputs": [
        {
          "output_type": "stream",
          "name": "stderr",
          "text": [
            "/usr/local/lib/python3.8/dist-packages/sklearn/preprocessing/_label.py:115: DataConversionWarning: A column-vector y was passed when a 1d array was expected. Please change the shape of y to (n_samples, ), for example using ravel().\n",
            "  y = column_or_1d(y, warn=True)\n"
          ]
        }
      ]
    },
    {
      "cell_type": "code",
      "source": [
        "ds.head()"
      ],
      "metadata": {
        "colab": {
          "base_uri": "https://localhost:8080/",
          "height": 206
        },
        "id": "XmpYP1Alkh4f",
        "outputId": "5b163487-86ce-4eda-a35a-97963eaaff48"
      },
      "execution_count": 141,
      "outputs": [
        {
          "output_type": "execute_result",
          "data": {
            "text/plain": [
              "   PassengerId  Survived  Pclass  \\\n",
              "0            1         0       3   \n",
              "1            2         1       1   \n",
              "2            3         1       3   \n",
              "3            4         1       1   \n",
              "4            5         0       3   \n",
              "\n",
              "                                                Name     Sex   Age  SibSp  \\\n",
              "0                            Braund, Mr. Owen Harris    male  22.0      1   \n",
              "1  Cumings, Mrs. John Bradley (Florence Briggs Th...  female  38.0      1   \n",
              "2                             Heikkinen, Miss. Laina  female  26.0      0   \n",
              "3       Futrelle, Mrs. Jacques Heath (Lily May Peel)  female  35.0      1   \n",
              "4                           Allen, Mr. William Henry    male  35.0      0   \n",
              "\n",
              "   Parch            Ticket     Fare Cabin Embarked  \n",
              "0      0         A/5 21171   7.2500   NaN        S  \n",
              "1      0          PC 17599  71.2833   C85        C  \n",
              "2      0  STON/O2. 3101282   7.9250   NaN        S  \n",
              "3      0            113803  53.1000  C123        S  \n",
              "4      0            373450   8.0500   NaN        S  "
            ],
            "text/html": [
              "\n",
              "  <div id=\"df-95332214-7d1c-407c-b3fb-addad4a0457d\">\n",
              "    <div class=\"colab-df-container\">\n",
              "      <div>\n",
              "<style scoped>\n",
              "    .dataframe tbody tr th:only-of-type {\n",
              "        vertical-align: middle;\n",
              "    }\n",
              "\n",
              "    .dataframe tbody tr th {\n",
              "        vertical-align: top;\n",
              "    }\n",
              "\n",
              "    .dataframe thead th {\n",
              "        text-align: right;\n",
              "    }\n",
              "</style>\n",
              "<table border=\"1\" class=\"dataframe\">\n",
              "  <thead>\n",
              "    <tr style=\"text-align: right;\">\n",
              "      <th></th>\n",
              "      <th>PassengerId</th>\n",
              "      <th>Survived</th>\n",
              "      <th>Pclass</th>\n",
              "      <th>Name</th>\n",
              "      <th>Sex</th>\n",
              "      <th>Age</th>\n",
              "      <th>SibSp</th>\n",
              "      <th>Parch</th>\n",
              "      <th>Ticket</th>\n",
              "      <th>Fare</th>\n",
              "      <th>Cabin</th>\n",
              "      <th>Embarked</th>\n",
              "    </tr>\n",
              "  </thead>\n",
              "  <tbody>\n",
              "    <tr>\n",
              "      <th>0</th>\n",
              "      <td>1</td>\n",
              "      <td>0</td>\n",
              "      <td>3</td>\n",
              "      <td>Braund, Mr. Owen Harris</td>\n",
              "      <td>male</td>\n",
              "      <td>22.0</td>\n",
              "      <td>1</td>\n",
              "      <td>0</td>\n",
              "      <td>A/5 21171</td>\n",
              "      <td>7.2500</td>\n",
              "      <td>NaN</td>\n",
              "      <td>S</td>\n",
              "    </tr>\n",
              "    <tr>\n",
              "      <th>1</th>\n",
              "      <td>2</td>\n",
              "      <td>1</td>\n",
              "      <td>1</td>\n",
              "      <td>Cumings, Mrs. John Bradley (Florence Briggs Th...</td>\n",
              "      <td>female</td>\n",
              "      <td>38.0</td>\n",
              "      <td>1</td>\n",
              "      <td>0</td>\n",
              "      <td>PC 17599</td>\n",
              "      <td>71.2833</td>\n",
              "      <td>C85</td>\n",
              "      <td>C</td>\n",
              "    </tr>\n",
              "    <tr>\n",
              "      <th>2</th>\n",
              "      <td>3</td>\n",
              "      <td>1</td>\n",
              "      <td>3</td>\n",
              "      <td>Heikkinen, Miss. Laina</td>\n",
              "      <td>female</td>\n",
              "      <td>26.0</td>\n",
              "      <td>0</td>\n",
              "      <td>0</td>\n",
              "      <td>STON/O2. 3101282</td>\n",
              "      <td>7.9250</td>\n",
              "      <td>NaN</td>\n",
              "      <td>S</td>\n",
              "    </tr>\n",
              "    <tr>\n",
              "      <th>3</th>\n",
              "      <td>4</td>\n",
              "      <td>1</td>\n",
              "      <td>1</td>\n",
              "      <td>Futrelle, Mrs. Jacques Heath (Lily May Peel)</td>\n",
              "      <td>female</td>\n",
              "      <td>35.0</td>\n",
              "      <td>1</td>\n",
              "      <td>0</td>\n",
              "      <td>113803</td>\n",
              "      <td>53.1000</td>\n",
              "      <td>C123</td>\n",
              "      <td>S</td>\n",
              "    </tr>\n",
              "    <tr>\n",
              "      <th>4</th>\n",
              "      <td>5</td>\n",
              "      <td>0</td>\n",
              "      <td>3</td>\n",
              "      <td>Allen, Mr. William Henry</td>\n",
              "      <td>male</td>\n",
              "      <td>35.0</td>\n",
              "      <td>0</td>\n",
              "      <td>0</td>\n",
              "      <td>373450</td>\n",
              "      <td>8.0500</td>\n",
              "      <td>NaN</td>\n",
              "      <td>S</td>\n",
              "    </tr>\n",
              "  </tbody>\n",
              "</table>\n",
              "</div>\n",
              "      <button class=\"colab-df-convert\" onclick=\"convertToInteractive('df-95332214-7d1c-407c-b3fb-addad4a0457d')\"\n",
              "              title=\"Convert this dataframe to an interactive table.\"\n",
              "              style=\"display:none;\">\n",
              "        \n",
              "  <svg xmlns=\"http://www.w3.org/2000/svg\" height=\"24px\"viewBox=\"0 0 24 24\"\n",
              "       width=\"24px\">\n",
              "    <path d=\"M0 0h24v24H0V0z\" fill=\"none\"/>\n",
              "    <path d=\"M18.56 5.44l.94 2.06.94-2.06 2.06-.94-2.06-.94-.94-2.06-.94 2.06-2.06.94zm-11 1L8.5 8.5l.94-2.06 2.06-.94-2.06-.94L8.5 2.5l-.94 2.06-2.06.94zm10 10l.94 2.06.94-2.06 2.06-.94-2.06-.94-.94-2.06-.94 2.06-2.06.94z\"/><path d=\"M17.41 7.96l-1.37-1.37c-.4-.4-.92-.59-1.43-.59-.52 0-1.04.2-1.43.59L10.3 9.45l-7.72 7.72c-.78.78-.78 2.05 0 2.83L4 21.41c.39.39.9.59 1.41.59.51 0 1.02-.2 1.41-.59l7.78-7.78 2.81-2.81c.8-.78.8-2.07 0-2.86zM5.41 20L4 18.59l7.72-7.72 1.47 1.35L5.41 20z\"/>\n",
              "  </svg>\n",
              "      </button>\n",
              "      \n",
              "  <style>\n",
              "    .colab-df-container {\n",
              "      display:flex;\n",
              "      flex-wrap:wrap;\n",
              "      gap: 12px;\n",
              "    }\n",
              "\n",
              "    .colab-df-convert {\n",
              "      background-color: #E8F0FE;\n",
              "      border: none;\n",
              "      border-radius: 50%;\n",
              "      cursor: pointer;\n",
              "      display: none;\n",
              "      fill: #1967D2;\n",
              "      height: 32px;\n",
              "      padding: 0 0 0 0;\n",
              "      width: 32px;\n",
              "    }\n",
              "\n",
              "    .colab-df-convert:hover {\n",
              "      background-color: #E2EBFA;\n",
              "      box-shadow: 0px 1px 2px rgba(60, 64, 67, 0.3), 0px 1px 3px 1px rgba(60, 64, 67, 0.15);\n",
              "      fill: #174EA6;\n",
              "    }\n",
              "\n",
              "    [theme=dark] .colab-df-convert {\n",
              "      background-color: #3B4455;\n",
              "      fill: #D2E3FC;\n",
              "    }\n",
              "\n",
              "    [theme=dark] .colab-df-convert:hover {\n",
              "      background-color: #434B5C;\n",
              "      box-shadow: 0px 1px 3px 1px rgba(0, 0, 0, 0.15);\n",
              "      filter: drop-shadow(0px 1px 2px rgba(0, 0, 0, 0.3));\n",
              "      fill: #FFFFFF;\n",
              "    }\n",
              "  </style>\n",
              "\n",
              "      <script>\n",
              "        const buttonEl =\n",
              "          document.querySelector('#df-95332214-7d1c-407c-b3fb-addad4a0457d button.colab-df-convert');\n",
              "        buttonEl.style.display =\n",
              "          google.colab.kernel.accessAllowed ? 'block' : 'none';\n",
              "\n",
              "        async function convertToInteractive(key) {\n",
              "          const element = document.querySelector('#df-95332214-7d1c-407c-b3fb-addad4a0457d');\n",
              "          const dataTable =\n",
              "            await google.colab.kernel.invokeFunction('convertToInteractive',\n",
              "                                                     [key], {});\n",
              "          if (!dataTable) return;\n",
              "\n",
              "          const docLinkHtml = 'Like what you see? Visit the ' +\n",
              "            '<a target=\"_blank\" href=https://colab.research.google.com/notebooks/data_table.ipynb>data table notebook</a>'\n",
              "            + ' to learn more about interactive tables.';\n",
              "          element.innerHTML = '';\n",
              "          dataTable['output_type'] = 'display_data';\n",
              "          await google.colab.output.renderOutput(dataTable, element);\n",
              "          const docLink = document.createElement('div');\n",
              "          docLink.innerHTML = docLinkHtml;\n",
              "          element.appendChild(docLink);\n",
              "        }\n",
              "      </script>\n",
              "    </div>\n",
              "  </div>\n",
              "  "
            ]
          },
          "metadata": {},
          "execution_count": 141
        }
      ]
    },
    {
      "cell_type": "code",
      "source": [
        "ds = ds.drop(['PassengerId', 'Name', 'Sex', 'SibSp', 'Parch', 'Ticket', 'Cabin', 'Embarked'], axis=1)"
      ],
      "metadata": {
        "id": "Cbj4duh_kkDZ"
      },
      "execution_count": 142,
      "outputs": []
    },
    {
      "cell_type": "code",
      "source": [
        "X = ds.iloc[:, 1:].values\n",
        "y = ds.iloc[:, 0].values"
      ],
      "metadata": {
        "id": "c0Yb3aVjk8oM"
      },
      "execution_count": 144,
      "outputs": []
    },
    {
      "cell_type": "code",
      "source": [
        "print(X)"
      ],
      "metadata": {
        "colab": {
          "base_uri": "https://localhost:8080/"
        },
        "id": "ZVpc0XuMlYhG",
        "outputId": "fce592b6-b410-45ed-e4fa-979aa8e70afb"
      },
      "execution_count": 145,
      "outputs": [
        {
          "output_type": "stream",
          "name": "stdout",
          "text": [
            "[[ 3.     22.      7.25  ]\n",
            " [ 1.     38.     71.2833]\n",
            " [ 3.     26.      7.925 ]\n",
            " ...\n",
            " [ 3.         nan 23.45  ]\n",
            " [ 1.     26.     30.    ]\n",
            " [ 3.     32.      7.75  ]]\n"
          ]
        }
      ]
    },
    {
      "cell_type": "code",
      "source": [
        "ds_sex = ds_sex.reshape(len(ds_sex),1)"
      ],
      "metadata": {
        "id": "loHXA6t0FWwy"
      },
      "execution_count": 146,
      "outputs": []
    },
    {
      "cell_type": "code",
      "source": [
        "X = np.concatenate((ds_sex, X), axis=1)"
      ],
      "metadata": {
        "id": "zNMZfiIqH2B9"
      },
      "execution_count": 147,
      "outputs": []
    },
    {
      "cell_type": "code",
      "source": [
        "print(X)"
      ],
      "metadata": {
        "colab": {
          "base_uri": "https://localhost:8080/"
        },
        "id": "RpvavIWmIwn6",
        "outputId": "7825b03a-3c8b-4c40-fb52-f6b1a867dfdc"
      },
      "execution_count": 148,
      "outputs": [
        {
          "output_type": "stream",
          "name": "stdout",
          "text": [
            "[[ 1.      3.     22.      7.25  ]\n",
            " [ 0.      1.     38.     71.2833]\n",
            " [ 0.      3.     26.      7.925 ]\n",
            " ...\n",
            " [ 0.      3.         nan 23.45  ]\n",
            " [ 1.      1.     26.     30.    ]\n",
            " [ 1.      3.     32.      7.75  ]]\n"
          ]
        }
      ]
    },
    {
      "cell_type": "code",
      "source": [
        "print(y)"
      ],
      "metadata": {
        "colab": {
          "base_uri": "https://localhost:8080/"
        },
        "id": "Y85Hks4Jlisn",
        "outputId": "fe19f21f-849b-4879-b14a-518a99359696"
      },
      "execution_count": 149,
      "outputs": [
        {
          "output_type": "stream",
          "name": "stdout",
          "text": [
            "[0 1 1 1 0 0 0 0 1 1 1 1 0 0 0 1 0 1 0 1 0 1 1 1 0 1 0 0 1 0 0 1 1 0 0 0 1\n",
            " 0 0 1 0 0 0 1 1 0 0 1 0 0 0 0 1 1 0 1 1 0 1 0 0 1 0 0 0 1 1 0 1 0 0 0 0 0\n",
            " 1 0 0 0 1 1 0 1 1 0 1 1 0 0 1 0 0 0 0 0 0 0 0 1 1 0 0 0 0 0 0 0 1 1 0 1 0\n",
            " 0 0 0 0 0 0 0 0 0 0 0 0 1 0 1 0 1 1 0 0 0 0 1 0 0 1 0 0 0 0 1 1 0 0 0 1 0\n",
            " 0 0 0 1 0 0 0 0 1 0 0 0 0 1 0 0 0 1 1 0 0 0 0 0 1 0 0 0 0 0 0 0 0 0 0 1 1\n",
            " 0 1 1 0 0 1 0 1 1 1 1 0 0 1 0 0 0 0 0 1 0 0 1 1 1 0 1 0 0 0 1 1 0 1 0 1 0\n",
            " 0 0 1 0 1 0 0 0 1 0 0 1 0 0 0 1 0 0 0 1 0 0 0 0 0 1 1 0 0 0 0 0 0 1 1 1 1\n",
            " 1 0 1 0 0 0 0 0 1 1 1 0 1 1 0 1 1 0 0 0 1 0 0 0 1 0 0 1 0 1 1 1 1 0 0 0 0\n",
            " 0 0 1 1 1 1 0 1 0 1 1 1 0 1 1 1 0 0 0 1 1 0 1 1 0 0 1 1 0 1 0 1 1 1 1 0 0\n",
            " 0 1 0 0 1 1 0 1 1 0 0 0 1 1 1 1 0 0 0 0 0 0 0 1 0 1 1 0 0 0 0 0 0 1 1 1 1\n",
            " 1 0 0 0 0 1 1 0 0 0 1 1 0 1 0 0 0 1 0 1 1 1 0 1 1 0 0 0 0 1 1 0 0 0 0 0 0\n",
            " 1 0 0 0 0 1 0 1 0 1 1 0 0 0 0 0 0 0 0 1 1 0 1 1 1 1 0 0 1 0 1 0 0 1 0 0 1\n",
            " 1 1 1 1 1 1 0 0 0 1 0 1 0 1 1 0 1 0 0 0 0 0 0 0 0 1 0 0 1 1 0 0 0 0 0 1 0\n",
            " 0 0 1 1 0 1 0 0 1 0 0 0 0 0 0 1 0 0 0 0 0 0 0 1 0 1 1 0 1 1 0 1 1 0 0 1 0\n",
            " 1 0 1 0 0 1 0 0 1 0 0 0 1 0 0 1 0 1 0 1 0 1 1 0 0 1 0 0 1 1 0 1 1 0 0 1 1\n",
            " 0 1 0 1 1 0 0 0 0 0 0 0 0 0 1 1 1 1 1 0 0 1 1 0 1 1 1 0 0 0 1 0 1 0 0 0 1\n",
            " 0 0 0 0 1 0 0 1 1 0 0 0 1 0 0 1 1 1 0 0 1 0 0 1 0 0 1 0 0 1 1 0 0 0 0 1 0\n",
            " 0 1 0 1 0 0 1 0 0 0 0 0 1 0 1 1 1 0 1 0 1 0 1 0 1 0 0 0 0 0 0 1 0 0 0 1 0\n",
            " 0 0 0 1 1 0 0 1 0 0 0 1 0 1 0 1 0 0 0 0 0 0 0 1 1 1 1 0 0 0 0 1 0 0 1 1 0\n",
            " 0 0 0 1 1 1 1 1 0 1 0 0 0 1 1 0 0 1 0 0 0 1 0 1 1 0 0 1 0 0 0 0 0 0 1 0 0\n",
            " 1 0 1 0 1 0 0 1 0 0 1 1 0 0 1 1 0 0 0 1 0 0 1 1 0 1 0 0 0 0 0 0 0 0 1 0 0\n",
            " 1 0 1 1 1 0 0 0 0 1 0 1 0 0 0 0 0 0 0 1 1 0 0 0 1 1 1 1 0 0 0 0 1 0 0 0 0\n",
            " 0 0 0 0 0 0 1 1 0 1 0 0 0 1 1 1 1 1 0 0 0 1 0 0 1 1 0 0 1 0 0 0 0 0 0 1 0\n",
            " 0 0 1 0 1 1 1 1 0 0 0 1 0 0 1 1 0 0 1 0 1 0 0 1 1 0 0 0 1 1 0 0 0 0 0 0 1\n",
            " 0 1 0]\n"
          ]
        }
      ]
    },
    {
      "cell_type": "code",
      "source": [
        "from sklearn import impute\n",
        "from sklearn.impute import SimpleImputer\n",
        "imputer = SimpleImputer(missing_values=np.nan, strategy='mean')\n",
        "imputer.fit(X[:, 1:])\n",
        "X[:, 1:] = imputer.transform(X[:, 1:])"
      ],
      "metadata": {
        "id": "ERg6-Ar7nMXa"
      },
      "execution_count": 150,
      "outputs": []
    },
    {
      "cell_type": "code",
      "source": [
        "print(X)"
      ],
      "metadata": {
        "id": "j7tRbgJLozGP",
        "colab": {
          "base_uri": "https://localhost:8080/"
        },
        "outputId": "8df367e2-9b87-4fd1-d949-41f331001223"
      },
      "execution_count": 151,
      "outputs": [
        {
          "output_type": "stream",
          "name": "stdout",
          "text": [
            "[[ 1.          3.         22.          7.25      ]\n",
            " [ 0.          1.         38.         71.2833    ]\n",
            " [ 0.          3.         26.          7.925     ]\n",
            " ...\n",
            " [ 0.          3.         29.69911765 23.45      ]\n",
            " [ 1.          1.         26.         30.        ]\n",
            " [ 1.          3.         32.          7.75      ]]\n"
          ]
        }
      ]
    },
    {
      "cell_type": "code",
      "source": [
        "from sklearn.model_selection import train_test_split\n",
        "X_train, X_test, y_train, y_test = train_test_split(X, y, test_size=0.2, random_state=1)"
      ],
      "metadata": {
        "id": "Z_E5fewzrlS8"
      },
      "execution_count": 152,
      "outputs": []
    },
    {
      "cell_type": "code",
      "source": [
        "print(X_train)"
      ],
      "metadata": {
        "colab": {
          "base_uri": "https://localhost:8080/"
        },
        "id": "69shopPq1I6e",
        "outputId": "e49f618a-bd6b-45db-df45-0c9adba98828"
      },
      "execution_count": 153,
      "outputs": [
        {
          "output_type": "stream",
          "name": "stdout",
          "text": [
            "[[ 1.          3.         29.69911765 23.25      ]\n",
            " [ 0.          1.         30.         56.9292    ]\n",
            " [ 0.          2.         34.         10.5       ]\n",
            " ...\n",
            " [ 1.          2.         21.         73.5       ]\n",
            " [ 0.          3.         29.69911765  7.55      ]\n",
            " [ 1.          3.         21.          8.05      ]]\n"
          ]
        }
      ]
    },
    {
      "cell_type": "code",
      "source": [
        "print(X_test)"
      ],
      "metadata": {
        "colab": {
          "base_uri": "https://localhost:8080/"
        },
        "id": "w_bIjf6i1M38",
        "outputId": "643bc5d2-5b2d-487a-8cb5-7edf24f27491"
      },
      "execution_count": 154,
      "outputs": [
        {
          "output_type": "stream",
          "name": "stdout",
          "text": [
            "[[  0.           1.          48.          25.9292    ]\n",
            " [  1.           3.          29.69911765   7.8958    ]\n",
            " [  0.           2.          17.          10.5       ]\n",
            " [  0.           3.          29.69911765   8.1375    ]\n",
            " [  0.           2.           7.          26.25      ]\n",
            " [  1.           3.          21.           7.8542    ]\n",
            " [  1.           2.          36.5         26.        ]\n",
            " [  0.           1.          35.          53.1       ]\n",
            " [  1.           1.          28.          82.1708    ]\n",
            " [  0.           3.          29.69911765  15.5       ]\n",
            " [  1.           3.          25.           7.8958    ]\n",
            " [  0.           3.          26.           7.925     ]\n",
            " [  1.           1.          54.          51.8625    ]\n",
            " [  1.           2.          29.69911765  13.        ]\n",
            " [  0.           3.          29.69911765   7.75      ]\n",
            " [  1.           1.          28.          26.55      ]\n",
            " [  1.           3.          10.          27.9       ]\n",
            " [  1.           3.          24.          16.1       ]\n",
            " [  1.           3.          36.           7.8958    ]\n",
            " [  0.           2.          24.          18.75      ]\n",
            " [  1.           3.          32.           7.925     ]\n",
            " [  1.           3.          26.          14.4542    ]\n",
            " [  0.           1.          24.          49.5042    ]\n",
            " [  1.           2.          18.          73.5       ]\n",
            " [  0.           3.          14.5         14.4542    ]\n",
            " [  1.           3.          27.           8.6625    ]\n",
            " [  0.           1.          21.         262.375     ]\n",
            " [  0.           2.          42.          13.        ]\n",
            " [  1.           2.          26.          10.5       ]\n",
            " [  0.           1.          22.         151.55      ]\n",
            " [  0.           3.          22.          10.5167    ]\n",
            " [  1.           1.          29.69911765  30.5       ]\n",
            " [  0.           3.          39.          31.275     ]\n",
            " [  0.           3.          25.           7.925     ]\n",
            " [  1.           3.          40.5          7.75      ]\n",
            " [  0.           3.           5.          31.3875    ]\n",
            " [  1.           1.          36.          26.2875    ]\n",
            " [  1.           3.          29.69911765   7.3125    ]\n",
            " [  1.           1.          25.          55.4417    ]\n",
            " [  1.           3.          20.           7.8542    ]\n",
            " [  0.           3.          27.           7.925     ]\n",
            " [  0.           3.          27.          11.1333    ]\n",
            " [  0.           1.          47.          52.5542    ]\n",
            " [  1.           1.          45.5         28.5       ]\n",
            " [  1.           2.           1.          37.0042    ]\n",
            " [  1.           3.          35.           7.05      ]\n",
            " [  1.           3.          11.          46.9       ]\n",
            " [  1.           2.          39.          13.        ]\n",
            " [  1.           1.          35.         512.3292    ]\n",
            " [  1.           2.          16.          10.5       ]\n",
            " [  1.           2.          29.69911765  15.05      ]\n",
            " [  0.           2.          21.          10.5       ]\n",
            " [  1.           2.          19.          10.5       ]\n",
            " [  1.           2.          36.          10.5       ]\n",
            " [  1.           3.          29.           9.5       ]\n",
            " [  0.           3.          24.          15.85      ]\n",
            " [  1.           2.          29.          10.5       ]\n",
            " [  1.           1.          61.          32.3208    ]\n",
            " [  1.           3.          39.          31.275     ]\n",
            " [  0.           3.          20.           8.6625    ]\n",
            " [  0.           3.          29.69911765  69.55      ]\n",
            " [  1.           3.          29.69911765   7.2292    ]\n",
            " [  1.           2.          28.          33.        ]\n",
            " [  1.           1.          45.          26.55      ]\n",
            " [  1.           1.          27.          53.1       ]\n",
            " [  0.           3.          29.          15.2458    ]\n",
            " [  1.           3.          20.          15.7417    ]\n",
            " [  1.           3.          26.          18.7875    ]\n",
            " [  0.           3.           2.          10.4625    ]\n",
            " [  1.           2.          43.          26.25      ]\n",
            " [  1.           3.          24.          24.15      ]\n",
            " [  1.           3.          14.          39.6875    ]\n",
            " [  1.           1.          46.          79.2       ]\n",
            " [  1.           3.          29.69911765   7.8958    ]\n",
            " [  0.           2.          57.          10.5       ]\n",
            " [  1.           2.          31.          37.0042    ]\n",
            " [  0.           1.          35.          52.        ]\n",
            " [  1.           3.          29.69911765   7.75      ]\n",
            " [  1.           1.          58.          29.7       ]\n",
            " [  0.           1.          16.          86.5       ]\n",
            " [  1.           3.          26.          56.4958    ]\n",
            " [  1.           3.          29.69911765  69.55      ]\n",
            " [  1.           3.          29.69911765   8.05      ]\n",
            " [  1.           3.          34.           6.4958    ]\n",
            " [  0.           2.          23.          13.7917    ]\n",
            " [  1.           3.          29.           9.4833    ]\n",
            " [  1.           3.          29.69911765   8.05      ]\n",
            " [  1.           3.          29.69911765   7.225     ]\n",
            " [  0.           3.           6.          31.275     ]\n",
            " [  0.           2.          30.          21.        ]\n",
            " [  1.           1.          47.          25.5875    ]\n",
            " [  1.           3.          29.69911765   8.7125    ]\n",
            " [  1.           3.          25.           7.7417    ]\n",
            " [  0.           3.          29.69911765   7.75      ]\n",
            " [  1.           3.          29.69911765   9.5       ]\n",
            " [  1.           1.          30.          27.75      ]\n",
            " [  1.           3.          59.           7.25      ]\n",
            " [  0.           3.          29.69911765   7.225     ]\n",
            " [  1.           3.          19.           7.8958    ]\n",
            " [  1.           3.          29.69911765   7.8958    ]\n",
            " [  1.           1.          29.69911765  39.6       ]\n",
            " [  1.           1.          38.           0.        ]\n",
            " [  1.           3.          29.69911765  15.2458    ]\n",
            " [  0.           3.          18.          14.4542    ]\n",
            " [  0.           1.          16.          57.9792    ]\n",
            " [  1.           3.          23.           9.225     ]\n",
            " [  1.           3.          29.           8.05      ]\n",
            " [  1.           3.          29.           7.875     ]\n",
            " [  1.           3.           7.          39.6875    ]\n",
            " [  1.           3.          42.           8.6625    ]\n",
            " [  1.           1.          49.          56.9292    ]\n",
            " [  1.           3.          22.           7.2292    ]\n",
            " [  1.           2.          48.          13.        ]\n",
            " [  1.           3.          25.           7.775     ]\n",
            " [  1.           2.          23.          13.        ]\n",
            " [  1.           3.          33.           7.775     ]\n",
            " [  1.           2.          29.          21.        ]\n",
            " [  1.           1.          31.          52.        ]\n",
            " [  0.           2.          36.          26.        ]\n",
            " [  0.           3.          31.           8.6833    ]\n",
            " [  0.           2.          28.          26.        ]\n",
            " [  1.           1.          52.          79.65      ]\n",
            " [  1.           3.          29.69911765   7.8958    ]\n",
            " [  1.           2.          18.          11.5       ]\n",
            " [  0.           1.          31.         164.8667    ]\n",
            " [  0.           1.          19.          30.        ]\n",
            " [  0.           2.          28.          13.        ]\n",
            " [  0.           3.          22.           7.775     ]\n",
            " [  1.           3.          29.69911765  69.55      ]\n",
            " [  1.           3.          29.69911765   7.75      ]\n",
            " [  1.           3.          24.           7.8958    ]\n",
            " [  1.           3.          44.           7.925     ]\n",
            " [  0.           3.           0.75        19.2583    ]\n",
            " [  1.           1.          27.          76.7292    ]\n",
            " [  0.           3.          33.          15.85      ]\n",
            " [  0.           1.          58.         146.5208    ]\n",
            " [  0.           1.          18.          79.65      ]\n",
            " [  1.           3.           1.          46.9       ]\n",
            " [  1.           3.          18.           6.4958    ]\n",
            " [  0.           3.          23.           7.55      ]\n",
            " [  0.           1.          25.         151.55      ]\n",
            " [  1.           3.          39.          24.15      ]\n",
            " [  0.           1.          14.         120.        ]\n",
            " [  0.           3.          29.69911765   8.05      ]\n",
            " [  1.           3.          29.69911765   7.775     ]\n",
            " [  0.           3.          18.          17.8       ]\n",
            " [  1.           2.          31.          10.5       ]\n",
            " [  1.           3.          29.69911765   8.05      ]\n",
            " [  0.           3.          39.          29.125     ]\n",
            " [  1.           3.          22.           7.8958    ]\n",
            " [  0.           3.           2.          12.2875    ]\n",
            " [  1.           3.          49.           0.        ]\n",
            " [  1.           3.           2.          29.125     ]\n",
            " [  0.           3.          22.           7.75      ]\n",
            " [  1.           3.          29.69911765  56.4958    ]\n",
            " [  1.           3.          32.           8.3625    ]\n",
            " [  1.           3.          22.           7.25      ]\n",
            " [  1.           3.          42.           7.55      ]\n",
            " [  0.           2.          27.          13.8583    ]\n",
            " [  1.           2.          23.          13.        ]\n",
            " [  1.           2.          37.          26.        ]\n",
            " [  1.           3.          28.           9.5       ]\n",
            " [  0.           3.          21.           7.65      ]\n",
            " [  1.           1.          28.          35.5       ]\n",
            " [  1.           3.          26.           8.6625    ]\n",
            " [  0.           3.          15.          14.4542    ]\n",
            " [  0.           2.          24.          27.        ]\n",
            " [  1.           3.          29.69911765  56.4958    ]\n",
            " [  1.           3.          16.           8.05      ]\n",
            " [  1.           1.          58.         113.275     ]\n",
            " [  0.           1.          35.         512.3292    ]\n",
            " [  0.           3.           2.          31.275     ]\n",
            " [  0.           1.          30.          86.5       ]\n",
            " [  1.           3.          18.           7.8542    ]\n",
            " [  0.           1.          49.          25.9292    ]\n",
            " [  1.           1.          29.69911765   0.        ]\n",
            " [  1.           3.          29.69911765   7.7333    ]\n",
            " [  1.           3.          21.           7.7333    ]\n",
            " [  0.           3.           5.          19.2583    ]]\n"
          ]
        }
      ]
    },
    {
      "cell_type": "code",
      "source": [
        "from sklearn.preprocessing import StandardScaler\n",
        "sc = StandardScaler()\n",
        "X_train_sc = sc.fit_transform(X_train[:, 2:])\n",
        "X_test_sc = sc.fit_transform(X_test[:, 2:])"
      ],
      "metadata": {
        "id": "dN1iLmrVuxEN"
      },
      "execution_count": 155,
      "outputs": []
    },
    {
      "cell_type": "code",
      "source": [
        "print(X_train)"
      ],
      "metadata": {
        "colab": {
          "base_uri": "https://localhost:8080/"
        },
        "id": "eCmKppLbKNCA",
        "outputId": "f5966989-c589-4e82-b590-196c03f5dfa5"
      },
      "execution_count": 156,
      "outputs": [
        {
          "output_type": "stream",
          "name": "stdout",
          "text": [
            "[[ 1.          3.         29.69911765 23.25      ]\n",
            " [ 0.          1.         30.         56.9292    ]\n",
            " [ 0.          2.         34.         10.5       ]\n",
            " ...\n",
            " [ 1.          2.         21.         73.5       ]\n",
            " [ 0.          3.         29.69911765  7.55      ]\n",
            " [ 1.          3.         21.          8.05      ]]\n"
          ]
        }
      ]
    },
    {
      "cell_type": "code",
      "source": [
        "print(X_train_sc)"
      ],
      "metadata": {
        "colab": {
          "base_uri": "https://localhost:8080/"
        },
        "id": "vdETqxP80V_C",
        "outputId": "bb5fb92f-dc98-4412-b017-50f7a250acce"
      },
      "execution_count": 157,
      "outputs": [
        {
          "output_type": "stream",
          "name": "stdout",
          "text": [
            "[[-0.02810499 -0.18801432]\n",
            " [-0.00541218  0.53969044]\n",
            " [ 0.29627125 -0.46350293]\n",
            " ...\n",
            " [-0.6841999   0.89773487]\n",
            " [-0.02810499 -0.52724343]\n",
            " [-0.6841999  -0.51643995]]\n"
          ]
        }
      ]
    },
    {
      "cell_type": "code",
      "source": [
        "X_train = np.concatenate((X_train[:, :2], X_train_sc), axis=1)"
      ],
      "metadata": {
        "id": "Hb4QU6eaxGpG"
      },
      "execution_count": 158,
      "outputs": []
    },
    {
      "cell_type": "code",
      "source": [
        "print(X_train)"
      ],
      "metadata": {
        "colab": {
          "base_uri": "https://localhost:8080/"
        },
        "id": "HeuChhl8wXVY",
        "outputId": "7646c6f2-adab-4878-f603-480daadc5144"
      },
      "execution_count": 159,
      "outputs": [
        {
          "output_type": "stream",
          "name": "stdout",
          "text": [
            "[[ 1.          3.         -0.02810499 -0.18801432]\n",
            " [ 0.          1.         -0.00541218  0.53969044]\n",
            " [ 0.          2.          0.29627125 -0.46350293]\n",
            " ...\n",
            " [ 1.          2.         -0.6841999   0.89773487]\n",
            " [ 0.          3.         -0.02810499 -0.52724343]\n",
            " [ 1.          3.         -0.6841999  -0.51643995]]\n"
          ]
        }
      ]
    },
    {
      "cell_type": "code",
      "source": [
        "print(X_test)"
      ],
      "metadata": {
        "colab": {
          "base_uri": "https://localhost:8080/"
        },
        "id": "JIK09bn8103s",
        "outputId": "e3ad85ea-3963-4c1d-fd31-70fc3e5e8ade"
      },
      "execution_count": 160,
      "outputs": [
        {
          "output_type": "stream",
          "name": "stdout",
          "text": [
            "[[  0.           1.          48.          25.9292    ]\n",
            " [  1.           3.          29.69911765   7.8958    ]\n",
            " [  0.           2.          17.          10.5       ]\n",
            " [  0.           3.          29.69911765   8.1375    ]\n",
            " [  0.           2.           7.          26.25      ]\n",
            " [  1.           3.          21.           7.8542    ]\n",
            " [  1.           2.          36.5         26.        ]\n",
            " [  0.           1.          35.          53.1       ]\n",
            " [  1.           1.          28.          82.1708    ]\n",
            " [  0.           3.          29.69911765  15.5       ]\n",
            " [  1.           3.          25.           7.8958    ]\n",
            " [  0.           3.          26.           7.925     ]\n",
            " [  1.           1.          54.          51.8625    ]\n",
            " [  1.           2.          29.69911765  13.        ]\n",
            " [  0.           3.          29.69911765   7.75      ]\n",
            " [  1.           1.          28.          26.55      ]\n",
            " [  1.           3.          10.          27.9       ]\n",
            " [  1.           3.          24.          16.1       ]\n",
            " [  1.           3.          36.           7.8958    ]\n",
            " [  0.           2.          24.          18.75      ]\n",
            " [  1.           3.          32.           7.925     ]\n",
            " [  1.           3.          26.          14.4542    ]\n",
            " [  0.           1.          24.          49.5042    ]\n",
            " [  1.           2.          18.          73.5       ]\n",
            " [  0.           3.          14.5         14.4542    ]\n",
            " [  1.           3.          27.           8.6625    ]\n",
            " [  0.           1.          21.         262.375     ]\n",
            " [  0.           2.          42.          13.        ]\n",
            " [  1.           2.          26.          10.5       ]\n",
            " [  0.           1.          22.         151.55      ]\n",
            " [  0.           3.          22.          10.5167    ]\n",
            " [  1.           1.          29.69911765  30.5       ]\n",
            " [  0.           3.          39.          31.275     ]\n",
            " [  0.           3.          25.           7.925     ]\n",
            " [  1.           3.          40.5          7.75      ]\n",
            " [  0.           3.           5.          31.3875    ]\n",
            " [  1.           1.          36.          26.2875    ]\n",
            " [  1.           3.          29.69911765   7.3125    ]\n",
            " [  1.           1.          25.          55.4417    ]\n",
            " [  1.           3.          20.           7.8542    ]\n",
            " [  0.           3.          27.           7.925     ]\n",
            " [  0.           3.          27.          11.1333    ]\n",
            " [  0.           1.          47.          52.5542    ]\n",
            " [  1.           1.          45.5         28.5       ]\n",
            " [  1.           2.           1.          37.0042    ]\n",
            " [  1.           3.          35.           7.05      ]\n",
            " [  1.           3.          11.          46.9       ]\n",
            " [  1.           2.          39.          13.        ]\n",
            " [  1.           1.          35.         512.3292    ]\n",
            " [  1.           2.          16.          10.5       ]\n",
            " [  1.           2.          29.69911765  15.05      ]\n",
            " [  0.           2.          21.          10.5       ]\n",
            " [  1.           2.          19.          10.5       ]\n",
            " [  1.           2.          36.          10.5       ]\n",
            " [  1.           3.          29.           9.5       ]\n",
            " [  0.           3.          24.          15.85      ]\n",
            " [  1.           2.          29.          10.5       ]\n",
            " [  1.           1.          61.          32.3208    ]\n",
            " [  1.           3.          39.          31.275     ]\n",
            " [  0.           3.          20.           8.6625    ]\n",
            " [  0.           3.          29.69911765  69.55      ]\n",
            " [  1.           3.          29.69911765   7.2292    ]\n",
            " [  1.           2.          28.          33.        ]\n",
            " [  1.           1.          45.          26.55      ]\n",
            " [  1.           1.          27.          53.1       ]\n",
            " [  0.           3.          29.          15.2458    ]\n",
            " [  1.           3.          20.          15.7417    ]\n",
            " [  1.           3.          26.          18.7875    ]\n",
            " [  0.           3.           2.          10.4625    ]\n",
            " [  1.           2.          43.          26.25      ]\n",
            " [  1.           3.          24.          24.15      ]\n",
            " [  1.           3.          14.          39.6875    ]\n",
            " [  1.           1.          46.          79.2       ]\n",
            " [  1.           3.          29.69911765   7.8958    ]\n",
            " [  0.           2.          57.          10.5       ]\n",
            " [  1.           2.          31.          37.0042    ]\n",
            " [  0.           1.          35.          52.        ]\n",
            " [  1.           3.          29.69911765   7.75      ]\n",
            " [  1.           1.          58.          29.7       ]\n",
            " [  0.           1.          16.          86.5       ]\n",
            " [  1.           3.          26.          56.4958    ]\n",
            " [  1.           3.          29.69911765  69.55      ]\n",
            " [  1.           3.          29.69911765   8.05      ]\n",
            " [  1.           3.          34.           6.4958    ]\n",
            " [  0.           2.          23.          13.7917    ]\n",
            " [  1.           3.          29.           9.4833    ]\n",
            " [  1.           3.          29.69911765   8.05      ]\n",
            " [  1.           3.          29.69911765   7.225     ]\n",
            " [  0.           3.           6.          31.275     ]\n",
            " [  0.           2.          30.          21.        ]\n",
            " [  1.           1.          47.          25.5875    ]\n",
            " [  1.           3.          29.69911765   8.7125    ]\n",
            " [  1.           3.          25.           7.7417    ]\n",
            " [  0.           3.          29.69911765   7.75      ]\n",
            " [  1.           3.          29.69911765   9.5       ]\n",
            " [  1.           1.          30.          27.75      ]\n",
            " [  1.           3.          59.           7.25      ]\n",
            " [  0.           3.          29.69911765   7.225     ]\n",
            " [  1.           3.          19.           7.8958    ]\n",
            " [  1.           3.          29.69911765   7.8958    ]\n",
            " [  1.           1.          29.69911765  39.6       ]\n",
            " [  1.           1.          38.           0.        ]\n",
            " [  1.           3.          29.69911765  15.2458    ]\n",
            " [  0.           3.          18.          14.4542    ]\n",
            " [  0.           1.          16.          57.9792    ]\n",
            " [  1.           3.          23.           9.225     ]\n",
            " [  1.           3.          29.           8.05      ]\n",
            " [  1.           3.          29.           7.875     ]\n",
            " [  1.           3.           7.          39.6875    ]\n",
            " [  1.           3.          42.           8.6625    ]\n",
            " [  1.           1.          49.          56.9292    ]\n",
            " [  1.           3.          22.           7.2292    ]\n",
            " [  1.           2.          48.          13.        ]\n",
            " [  1.           3.          25.           7.775     ]\n",
            " [  1.           2.          23.          13.        ]\n",
            " [  1.           3.          33.           7.775     ]\n",
            " [  1.           2.          29.          21.        ]\n",
            " [  1.           1.          31.          52.        ]\n",
            " [  0.           2.          36.          26.        ]\n",
            " [  0.           3.          31.           8.6833    ]\n",
            " [  0.           2.          28.          26.        ]\n",
            " [  1.           1.          52.          79.65      ]\n",
            " [  1.           3.          29.69911765   7.8958    ]\n",
            " [  1.           2.          18.          11.5       ]\n",
            " [  0.           1.          31.         164.8667    ]\n",
            " [  0.           1.          19.          30.        ]\n",
            " [  0.           2.          28.          13.        ]\n",
            " [  0.           3.          22.           7.775     ]\n",
            " [  1.           3.          29.69911765  69.55      ]\n",
            " [  1.           3.          29.69911765   7.75      ]\n",
            " [  1.           3.          24.           7.8958    ]\n",
            " [  1.           3.          44.           7.925     ]\n",
            " [  0.           3.           0.75        19.2583    ]\n",
            " [  1.           1.          27.          76.7292    ]\n",
            " [  0.           3.          33.          15.85      ]\n",
            " [  0.           1.          58.         146.5208    ]\n",
            " [  0.           1.          18.          79.65      ]\n",
            " [  1.           3.           1.          46.9       ]\n",
            " [  1.           3.          18.           6.4958    ]\n",
            " [  0.           3.          23.           7.55      ]\n",
            " [  0.           1.          25.         151.55      ]\n",
            " [  1.           3.          39.          24.15      ]\n",
            " [  0.           1.          14.         120.        ]\n",
            " [  0.           3.          29.69911765   8.05      ]\n",
            " [  1.           3.          29.69911765   7.775     ]\n",
            " [  0.           3.          18.          17.8       ]\n",
            " [  1.           2.          31.          10.5       ]\n",
            " [  1.           3.          29.69911765   8.05      ]\n",
            " [  0.           3.          39.          29.125     ]\n",
            " [  1.           3.          22.           7.8958    ]\n",
            " [  0.           3.           2.          12.2875    ]\n",
            " [  1.           3.          49.           0.        ]\n",
            " [  1.           3.           2.          29.125     ]\n",
            " [  0.           3.          22.           7.75      ]\n",
            " [  1.           3.          29.69911765  56.4958    ]\n",
            " [  1.           3.          32.           8.3625    ]\n",
            " [  1.           3.          22.           7.25      ]\n",
            " [  1.           3.          42.           7.55      ]\n",
            " [  0.           2.          27.          13.8583    ]\n",
            " [  1.           2.          23.          13.        ]\n",
            " [  1.           2.          37.          26.        ]\n",
            " [  1.           3.          28.           9.5       ]\n",
            " [  0.           3.          21.           7.65      ]\n",
            " [  1.           1.          28.          35.5       ]\n",
            " [  1.           3.          26.           8.6625    ]\n",
            " [  0.           3.          15.          14.4542    ]\n",
            " [  0.           2.          24.          27.        ]\n",
            " [  1.           3.          29.69911765  56.4958    ]\n",
            " [  1.           3.          16.           8.05      ]\n",
            " [  1.           1.          58.         113.275     ]\n",
            " [  0.           1.          35.         512.3292    ]\n",
            " [  0.           3.           2.          31.275     ]\n",
            " [  0.           1.          30.          86.5       ]\n",
            " [  1.           3.          18.           7.8542    ]\n",
            " [  0.           1.          49.          25.9292    ]\n",
            " [  1.           1.          29.69911765   0.        ]\n",
            " [  1.           3.          29.69911765   7.7333    ]\n",
            " [  1.           3.          21.           7.7333    ]\n",
            " [  0.           3.           5.          19.2583    ]]\n"
          ]
        }
      ]
    },
    {
      "cell_type": "code",
      "source": [
        "X_test = np.concatenate((X_test[:, :2], X_test_sc), axis=1)"
      ],
      "metadata": {
        "id": "u9Zned-1B1ES"
      },
      "execution_count": 161,
      "outputs": []
    },
    {
      "cell_type": "code",
      "source": [
        "print(X_test)"
      ],
      "metadata": {
        "colab": {
          "base_uri": "https://localhost:8080/"
        },
        "id": "Z_v1TQou143M",
        "outputId": "7a60cf8c-8806-45bb-a683-18d1125bef5c"
      },
      "execution_count": 162,
      "outputs": [
        {
          "output_type": "stream",
          "name": "stdout",
          "text": [
            "[[ 0.00000000e+00  1.00000000e+00  1.68087607e+00 -1.18770935e-01]\n",
            " [ 1.00000000e+00  3.00000000e+00  1.25938848e-01 -4.12983294e-01]\n",
            " [ 0.00000000e+00  2.00000000e+00 -9.53043596e-01 -3.70496141e-01]\n",
            " [ 0.00000000e+00  3.00000000e+00  1.25938848e-01 -4.09039993e-01]\n",
            " [ 0.00000000e+00  2.00000000e+00 -1.80269510e+00 -1.13537129e-01]\n",
            " [ 1.00000000e+00  3.00000000e+00 -6.13182994e-01 -4.13661992e-01]\n",
            " [ 1.00000000e+00  2.00000000e+00  7.03776841e-01 -1.17615843e-01]\n",
            " [ 0.00000000e+00  1.00000000e+00  5.76329115e-01  3.24516806e-01]\n",
            " [ 1.00000000e+00  1.00000000e+00 -1.84269392e-02  7.98802777e-01]\n",
            " [ 0.00000000e+00  3.00000000e+00  1.25938848e-01 -2.88921851e-01]\n",
            " [ 1.00000000e+00  3.00000000e+00 -2.73322391e-01 -4.12983294e-01]\n",
            " [ 0.00000000e+00  3.00000000e+00 -1.88357241e-01 -4.12506900e-01]\n",
            " [ 1.00000000e+00  1.00000000e+00  2.19066698e+00  3.04327169e-01]\n",
            " [ 1.00000000e+00  2.00000000e+00  1.25938848e-01 -3.29708996e-01]\n",
            " [ 0.00000000e+00  3.00000000e+00  1.25938848e-01 -4.15362000e-01]\n",
            " [ 1.00000000e+00  1.00000000e+00 -1.84269392e-02 -1.08642671e-01]\n",
            " [ 1.00000000e+00  3.00000000e+00 -1.54779965e+00 -8.66176132e-02]\n",
            " [ 1.00000000e+00  3.00000000e+00 -3.58287542e-01 -2.79132936e-01]\n",
            " [ 1.00000000e+00  3.00000000e+00  6.61294266e-01 -4.12983294e-01]\n",
            " [ 0.00000000e+00  2.00000000e+00 -3.58287542e-01 -2.35898563e-01]\n",
            " [ 1.00000000e+00  3.00000000e+00  3.21433663e-01 -4.12506900e-01]\n",
            " [ 1.00000000e+00  3.00000000e+00 -1.88357241e-01 -3.05983930e-01]\n",
            " [ 0.00000000e+00  1.00000000e+00 -3.58287542e-01  2.65851840e-01]\n",
            " [ 1.00000000e+00  2.00000000e+00 -8.68078446e-01  6.57339907e-01]\n",
            " [ 0.00000000e+00  3.00000000e+00 -1.16545647e+00 -3.05983930e-01]\n",
            " [ 1.00000000e+00  3.00000000e+00 -1.03392090e-01 -4.00474692e-01]\n",
            " [ 0.00000000e+00  1.00000000e+00 -6.13182994e-01  3.73880870e+00]\n",
            " [ 0.00000000e+00  2.00000000e+00  1.17108517e+00 -3.29708996e-01]\n",
            " [ 1.00000000e+00  2.00000000e+00 -1.88357241e-01 -3.70496141e-01]\n",
            " [ 0.00000000e+00  1.00000000e+00 -5.28217843e-01  1.93071457e+00]\n",
            " [ 0.00000000e+00  3.00000000e+00 -5.28217843e-01 -3.70223683e-01]\n",
            " [ 1.00000000e+00  1.00000000e+00  1.25938848e-01 -4.41989826e-02]\n",
            " [ 0.00000000e+00  3.00000000e+00  9.16189718e-01 -3.15549677e-02]\n",
            " [ 0.00000000e+00  3.00000000e+00 -2.73322391e-01 -4.12506900e-01]\n",
            " [ 1.00000000e+00  3.00000000e+00  1.04363744e+00 -4.15362000e-01]\n",
            " [ 0.00000000e+00  3.00000000e+00 -1.97262540e+00 -2.97195462e-02]\n",
            " [ 1.00000000e+00  1.00000000e+00  6.61294266e-01 -1.12925322e-01]\n",
            " [ 1.00000000e+00  3.00000000e+00  1.25938848e-01 -4.22499750e-01]\n",
            " [ 1.00000000e+00  1.00000000e+00 -2.73322391e-01  3.62721309e-01]\n",
            " [ 1.00000000e+00  3.00000000e+00 -6.98148144e-01 -4.13661992e-01]\n",
            " [ 0.00000000e+00  3.00000000e+00 -1.03392090e-01 -4.12506900e-01]\n",
            " [ 0.00000000e+00  3.00000000e+00 -1.03392090e-01 -3.60163941e-01]\n",
            " [ 0.00000000e+00  1.00000000e+00  1.59591092e+00  3.15612157e-01]\n",
            " [ 1.00000000e+00  1.00000000e+00  1.46846320e+00 -7.68286984e-02]\n",
            " [ 1.00000000e+00  2.00000000e+00 -2.31248601e+00  6.19161162e-02]\n",
            " [ 1.00000000e+00  3.00000000e+00  5.76329115e-01 -4.26782401e-01]\n",
            " [ 1.00000000e+00  3.00000000e+00 -1.46283450e+00  2.23364687e-01]\n",
            " [ 1.00000000e+00  2.00000000e+00  9.16189718e-01 -3.29708996e-01]\n",
            " [ 1.00000000e+00  1.00000000e+00  5.76329115e-01  7.81677595e+00]\n",
            " [ 1.00000000e+00  2.00000000e+00 -1.03800875e+00 -3.70496141e-01]\n",
            " [ 1.00000000e+00  2.00000000e+00  1.25938848e-01 -2.96263537e-01]\n",
            " [ 0.00000000e+00  2.00000000e+00 -6.13182994e-01 -3.70496141e-01]\n",
            " [ 1.00000000e+00  2.00000000e+00 -7.83113295e-01 -3.70496141e-01]\n",
            " [ 1.00000000e+00  2.00000000e+00  6.61294266e-01 -3.70496141e-01]\n",
            " [ 1.00000000e+00  3.00000000e+00  6.65382115e-02 -3.86810999e-01]\n",
            " [ 0.00000000e+00  3.00000000e+00 -3.58287542e-01 -2.83211651e-01]\n",
            " [ 1.00000000e+00  2.00000000e+00  6.65382115e-02 -3.70496141e-01]\n",
            " [ 1.00000000e+00  1.00000000e+00  2.78542303e+00 -1.44928893e-02]\n",
            " [ 1.00000000e+00  3.00000000e+00  9.16189718e-01 -3.15549677e-02]\n",
            " [ 0.00000000e+00  3.00000000e+00 -6.98148144e-01 -4.00474692e-01]\n",
            " [ 0.00000000e+00  3.00000000e+00  1.25938848e-01  5.92896219e-01]\n",
            " [ 1.00000000e+00  3.00000000e+00  1.25938848e-01 -4.23858778e-01]\n",
            " [ 1.00000000e+00  2.00000000e+00 -1.84269392e-02 -3.41183782e-03]\n",
            " [ 1.00000000e+00  1.00000000e+00  1.42598062e+00 -1.08642671e-01]\n",
            " [ 1.00000000e+00  1.00000000e+00 -1.03392090e-01  3.24516806e-01]\n",
            " [ 0.00000000e+00  3.00000000e+00  6.65382115e-02 -2.93069088e-01]\n",
            " [ 1.00000000e+00  3.00000000e+00 -6.98148144e-01 -2.84978550e-01]\n",
            " [ 1.00000000e+00  3.00000000e+00 -1.88357241e-01 -2.35286756e-01]\n",
            " [ 0.00000000e+00  3.00000000e+00 -2.22752086e+00 -3.71107948e-01]\n",
            " [ 1.00000000e+00  2.00000000e+00  1.25605032e+00 -1.13537129e-01]\n",
            " [ 1.00000000e+00  3.00000000e+00 -3.58287542e-01 -1.47798330e-01]\n",
            " [ 1.00000000e+00  3.00000000e+00 -1.20793905e+00  1.05693774e-01]\n",
            " [ 1.00000000e+00  1.00000000e+00  1.51094577e+00  7.50334598e-01]\n",
            " [ 1.00000000e+00  3.00000000e+00  1.25938848e-01 -4.12983294e-01]\n",
            " [ 0.00000000e+00  2.00000000e+00  2.44556243e+00 -3.70496141e-01]\n",
            " [ 1.00000000e+00  2.00000000e+00  2.36468513e-01  6.19161162e-02]\n",
            " [ 0.00000000e+00  1.00000000e+00  5.76329115e-01  3.06570462e-01]\n",
            " [ 1.00000000e+00  3.00000000e+00  1.25938848e-01 -4.15362000e-01]\n",
            " [ 1.00000000e+00  1.00000000e+00  2.53052758e+00 -5.72508689e-02]\n",
            " [ 0.00000000e+00  1.00000000e+00 -1.03800875e+00  8.69433060e-01]\n",
            " [ 1.00000000e+00  3.00000000e+00 -1.88357241e-01  3.79918801e-01]\n",
            " [ 1.00000000e+00  3.00000000e+00  1.25938848e-01  5.92896219e-01]\n",
            " [ 1.00000000e+00  3.00000000e+00  1.25938848e-01 -4.10467543e-01]\n",
            " [ 1.00000000e+00  3.00000000e+00  4.91363965e-01 -4.35824095e-01]\n",
            " [ 0.00000000e+00  2.00000000e+00 -4.43252693e-01 -3.16792523e-01]\n",
            " [ 1.00000000e+00  3.00000000e+00  6.65382115e-02 -3.87083457e-01]\n",
            " [ 1.00000000e+00  3.00000000e+00  1.25938848e-01 -4.10467543e-01]\n",
            " [ 1.00000000e+00  3.00000000e+00  1.25938848e-01 -4.23927300e-01]\n",
            " [ 0.00000000e+00  3.00000000e+00 -1.88766025e+00 -3.15549677e-02]\n",
            " [ 0.00000000e+00  2.00000000e+00  1.51503362e-01 -1.99190133e-01]\n",
            " [ 1.00000000e+00  1.00000000e+00  1.59591092e+00 -1.24345722e-01]\n",
            " [ 1.00000000e+00  3.00000000e+00  1.25938848e-01 -3.99658949e-01]\n",
            " [ 1.00000000e+00  3.00000000e+00 -2.73322391e-01 -4.15497413e-01]\n",
            " [ 0.00000000e+00  3.00000000e+00  1.25938848e-01 -4.15362000e-01]\n",
            " [ 1.00000000e+00  3.00000000e+00  1.25938848e-01 -3.86810999e-01]\n",
            " [ 1.00000000e+00  1.00000000e+00  1.51503362e-01 -8.90648418e-02]\n",
            " [ 1.00000000e+00  3.00000000e+00  2.61549273e+00 -4.23519429e-01]\n",
            " [ 0.00000000e+00  3.00000000e+00  1.25938848e-01 -4.23927300e-01]\n",
            " [ 1.00000000e+00  3.00000000e+00 -7.83113295e-01 -4.12983294e-01]\n",
            " [ 1.00000000e+00  3.00000000e+00  1.25938848e-01 -4.12983294e-01]\n",
            " [ 1.00000000e+00  1.00000000e+00  1.25938848e-01  1.04266224e-01]\n",
            " [ 1.00000000e+00  1.00000000e+00  8.31224567e-01 -5.41802149e-01]\n",
            " [ 1.00000000e+00  3.00000000e+00  1.25938848e-01 -2.93069088e-01]\n",
            " [ 0.00000000e+00  3.00000000e+00 -8.68078446e-01 -3.05983930e-01]\n",
            " [ 0.00000000e+00  1.00000000e+00 -1.03800875e+00  4.04120261e-01]\n",
            " [ 1.00000000e+00  3.00000000e+00 -4.43252693e-01 -3.91297585e-01]\n",
            " [ 1.00000000e+00  3.00000000e+00  6.65382115e-02 -4.10467543e-01]\n",
            " [ 1.00000000e+00  3.00000000e+00  6.65382115e-02 -4.13322643e-01]\n",
            " [ 1.00000000e+00  3.00000000e+00 -1.80269510e+00  1.05693774e-01]\n",
            " [ 1.00000000e+00  3.00000000e+00  1.17108517e+00 -4.00474692e-01]\n",
            " [ 1.00000000e+00  1.00000000e+00  1.76584122e+00  3.86989660e-01]\n",
            " [ 1.00000000e+00  3.00000000e+00 -5.28217843e-01 -4.23858778e-01]\n",
            " [ 1.00000000e+00  2.00000000e+00  1.68087607e+00 -3.29708996e-01]\n",
            " [ 1.00000000e+00  3.00000000e+00 -2.73322391e-01 -4.14954129e-01]\n",
            " [ 1.00000000e+00  2.00000000e+00 -4.43252693e-01 -3.29708996e-01]\n",
            " [ 1.00000000e+00  3.00000000e+00  4.06398814e-01 -4.14954129e-01]\n",
            " [ 1.00000000e+00  2.00000000e+00  6.65382115e-02 -1.99190133e-01]\n",
            " [ 1.00000000e+00  1.00000000e+00  2.36468513e-01  3.06570462e-01]\n",
            " [ 0.00000000e+00  2.00000000e+00  6.61294266e-01 -1.17615843e-01]\n",
            " [ 0.00000000e+00  3.00000000e+00  2.36468513e-01 -4.00135343e-01]\n",
            " [ 0.00000000e+00  2.00000000e+00 -1.84269392e-02 -1.17615843e-01]\n",
            " [ 1.00000000e+00  1.00000000e+00  2.02073668e+00  7.57676284e-01]\n",
            " [ 1.00000000e+00  3.00000000e+00  1.25938848e-01 -4.12983294e-01]\n",
            " [ 1.00000000e+00  2.00000000e+00 -8.68078446e-01 -3.54181283e-01]\n",
            " [ 0.00000000e+00  1.00000000e+00  2.36468513e-01  2.14797464e+00]\n",
            " [ 0.00000000e+00  1.00000000e+00 -7.83113295e-01 -5.23564116e-02]\n",
            " [ 0.00000000e+00  2.00000000e+00 -1.84269392e-02 -3.29708996e-01]\n",
            " [ 0.00000000e+00  3.00000000e+00 -5.28217843e-01 -4.14954129e-01]\n",
            " [ 1.00000000e+00  3.00000000e+00  1.25938848e-01  5.92896219e-01]\n",
            " [ 1.00000000e+00  3.00000000e+00  1.25938848e-01 -4.15362000e-01]\n",
            " [ 1.00000000e+00  3.00000000e+00 -3.58287542e-01 -4.12983294e-01]\n",
            " [ 1.00000000e+00  3.00000000e+00  1.34101547e+00 -4.12506900e-01]\n",
            " [ 0.00000000e+00  3.00000000e+00 -2.33372729e+00 -2.27605721e-01]\n",
            " [ 1.00000000e+00  1.00000000e+00 -1.03392090e-01  7.10023847e-01]\n",
            " [ 0.00000000e+00  3.00000000e+00  4.06398814e-01 -2.83211651e-01]\n",
            " [ 0.00000000e+00  1.00000000e+00  2.53052758e+00  1.84866388e+00]\n",
            " [ 0.00000000e+00  1.00000000e+00 -8.68078446e-01  7.57676284e-01]\n",
            " [ 1.00000000e+00  3.00000000e+00 -2.31248601e+00  2.23364687e-01]\n",
            " [ 1.00000000e+00  3.00000000e+00 -8.68078446e-01 -4.35824095e-01]\n",
            " [ 0.00000000e+00  3.00000000e+00 -4.43252693e-01 -4.18624972e-01]\n",
            " [ 0.00000000e+00  1.00000000e+00 -2.73322391e-01  1.93071457e+00]\n",
            " [ 1.00000000e+00  3.00000000e+00  9.16189718e-01 -1.47798330e-01]\n",
            " [ 0.00000000e+00  1.00000000e+00 -1.20793905e+00  1.41598080e+00]\n",
            " [ 0.00000000e+00  3.00000000e+00  1.25938848e-01 -4.10467543e-01]\n",
            " [ 1.00000000e+00  3.00000000e+00  1.25938848e-01 -4.14954129e-01]\n",
            " [ 0.00000000e+00  3.00000000e+00 -8.68078446e-01 -2.51397678e-01]\n",
            " [ 1.00000000e+00  2.00000000e+00  2.36468513e-01 -3.70496141e-01]\n",
            " [ 1.00000000e+00  3.00000000e+00  1.25938848e-01 -4.10467543e-01]\n",
            " [ 0.00000000e+00  3.00000000e+00  9.16189718e-01 -6.66319122e-02]\n",
            " [ 1.00000000e+00  3.00000000e+00 -5.28217843e-01 -4.12983294e-01]\n",
            " [ 0.00000000e+00  3.00000000e+00 -2.22752086e+00 -3.41333332e-01]\n",
            " [ 1.00000000e+00  3.00000000e+00  1.76584122e+00 -5.41802149e-01]\n",
            " [ 1.00000000e+00  3.00000000e+00 -2.22752086e+00 -6.66319122e-02]\n",
            " [ 0.00000000e+00  3.00000000e+00 -5.28217843e-01 -4.15362000e-01]\n",
            " [ 1.00000000e+00  3.00000000e+00  1.25938848e-01  3.79918801e-01]\n",
            " [ 1.00000000e+00  3.00000000e+00  3.21433663e-01 -4.05369150e-01]\n",
            " [ 1.00000000e+00  3.00000000e+00 -5.28217843e-01 -4.23519429e-01]\n",
            " [ 1.00000000e+00  3.00000000e+00  1.17108517e+00 -4.18624972e-01]\n",
            " [ 0.00000000e+00  2.00000000e+00 -1.03392090e-01 -3.15705953e-01]\n",
            " [ 1.00000000e+00  2.00000000e+00 -4.43252693e-01 -3.29708996e-01]\n",
            " [ 1.00000000e+00  2.00000000e+00  7.46259417e-01 -1.17615843e-01]\n",
            " [ 1.00000000e+00  3.00000000e+00 -1.84269392e-02 -3.86810999e-01]\n",
            " [ 0.00000000e+00  3.00000000e+00 -6.13182994e-01 -4.16993486e-01]\n",
            " [ 1.00000000e+00  1.00000000e+00 -1.84269392e-02  3.73753069e-02]\n",
            " [ 1.00000000e+00  3.00000000e+00 -1.88357241e-01 -4.00474692e-01]\n",
            " [ 0.00000000e+00  3.00000000e+00 -1.12297390e+00 -3.05983930e-01]\n",
            " [ 0.00000000e+00  2.00000000e+00 -3.58287542e-01 -1.01300985e-01]\n",
            " [ 1.00000000e+00  3.00000000e+00  1.25938848e-01  3.79918801e-01]\n",
            " [ 1.00000000e+00  3.00000000e+00 -1.03800875e+00 -4.10467543e-01]\n",
            " [ 1.00000000e+00  1.00000000e+00  2.53052758e+00  1.30626338e+00]\n",
            " [ 0.00000000e+00  1.00000000e+00  5.76329115e-01  7.81677595e+00]\n",
            " [ 0.00000000e+00  3.00000000e+00 -2.22752086e+00 -3.15549677e-02]\n",
            " [ 0.00000000e+00  1.00000000e+00  1.51503362e-01  8.69433060e-01]\n",
            " [ 1.00000000e+00  3.00000000e+00 -8.68078446e-01 -4.13661992e-01]\n",
            " [ 0.00000000e+00  1.00000000e+00  1.76584122e+00 -1.18770935e-01]\n",
            " [ 1.00000000e+00  1.00000000e+00  1.25938848e-01 -5.41802149e-01]\n",
            " [ 1.00000000e+00  3.00000000e+00  1.25938848e-01 -4.15634458e-01]\n",
            " [ 1.00000000e+00  3.00000000e+00 -6.13182994e-01 -4.15634458e-01]\n",
            " [ 0.00000000e+00  3.00000000e+00 -1.97262540e+00 -2.27605721e-01]]\n"
          ]
        }
      ]
    },
    {
      "cell_type": "code",
      "source": [
        "from sklearn.svm import SVC\n",
        "classifier = SVC(kernel='rbf', random_state=0)\n",
        "classifier.fit(X_train, y_train)"
      ],
      "metadata": {
        "id": "Rl2wpSavrSKl",
        "colab": {
          "base_uri": "https://localhost:8080/"
        },
        "outputId": "5f27f68a-11ed-4aff-be72-93632fb107dc"
      },
      "execution_count": 163,
      "outputs": [
        {
          "output_type": "execute_result",
          "data": {
            "text/plain": [
              "SVC(random_state=0)"
            ]
          },
          "metadata": {},
          "execution_count": 163
        }
      ]
    },
    {
      "cell_type": "code",
      "source": [
        "#from sklearn.tree import DecisionTreeClassifier\n",
        "#classifier = DecisionTreeClassifier(criterion='entropy', random_state=0, min_samples_split=90)\n",
        "#classifier.fit(X_train, y_train)"
      ],
      "metadata": {
        "id": "GeDT65kXhdPn"
      },
      "execution_count": 164,
      "outputs": []
    },
    {
      "cell_type": "code",
      "source": [
        "#from sklearn.ensemble import RandomForestClassifier\n",
        "#classifier = RandomForestClassifier(n_estimators=30, criterion='entropy', random_state=0, min_samples_split=90)\n",
        "#classifier.fit(X_train, y_train)"
      ],
      "metadata": {
        "id": "uub1wQSxk9w_"
      },
      "execution_count": 165,
      "outputs": []
    },
    {
      "cell_type": "code",
      "source": [
        "#from sklearn.linear_model import LogisticRegression\n",
        "#classifier = LogisticRegression(random_state=0)\n",
        "#classifier.fit(X_train, y_train)"
      ],
      "metadata": {
        "id": "VjtGQ-WUFxuL"
      },
      "execution_count": 166,
      "outputs": []
    },
    {
      "cell_type": "code",
      "source": [
        "#from sklearn.neighbors import KNeighborsClassifier\n",
        "#classifier = KNeighborsClassifier(n_neighbors=5, metric='minkowski', p=2)\n",
        "#classifier.fit(X_train, y_train)"
      ],
      "metadata": {
        "id": "sBJ_TbmkJ6JK"
      },
      "execution_count": 167,
      "outputs": []
    },
    {
      "cell_type": "code",
      "source": [
        "#from sklearn.naive_bayes import GaussianNB\n",
        "#classifier = GaussianNB()\n",
        "#classifier.fit(X_train, y_train)"
      ],
      "metadata": {
        "id": "TSE-4KcOTjEK"
      },
      "execution_count": 168,
      "outputs": []
    },
    {
      "cell_type": "code",
      "source": [
        "y_pred = classifier.predict(X_test)"
      ],
      "metadata": {
        "id": "bLsD4ip93n2x"
      },
      "execution_count": 169,
      "outputs": []
    },
    {
      "cell_type": "code",
      "source": [
        "from sklearn.metrics import confusion_matrix, accuracy_score\n",
        "cm = confusion_matrix(y_test, y_pred)\n",
        "print(cm)\n",
        "accuracy_score(y_test, y_pred)"
      ],
      "metadata": {
        "colab": {
          "base_uri": "https://localhost:8080/"
        },
        "id": "a0xio27q4-Gu",
        "outputId": "3bfc6c95-e93d-414a-ca10-adc5b9e515fd"
      },
      "execution_count": 170,
      "outputs": [
        {
          "output_type": "stream",
          "name": "stdout",
          "text": [
            "[[91 15]\n",
            " [22 51]]\n"
          ]
        },
        {
          "output_type": "execute_result",
          "data": {
            "text/plain": [
              "0.7932960893854749"
            ]
          },
          "metadata": {},
          "execution_count": 170
        }
      ]
    }
  ],
  "metadata": {
    "kernelspec": {
      "display_name": "Python 3",
      "language": "python",
      "name": "python3"
    },
    "language_info": {
      "codemirror_mode": {
        "name": "ipython",
        "version": 3
      },
      "file_extension": ".py",
      "mimetype": "text/x-python",
      "name": "python",
      "nbconvert_exporter": "python",
      "pygments_lexer": "ipython3",
      "version": "3.7.4"
    },
    "colab": {
      "provenance": [],
      "include_colab_link": true
    }
  },
  "nbformat": 4,
  "nbformat_minor": 0
}